{
 "cells": [
  {
   "cell_type": "code",
   "execution_count": 1,
   "id": "ce5c6067",
   "metadata": {
    "_cell_guid": "b1076dfc-b9ad-4769-8c92-a6c4dae69d19",
    "_uuid": "8f2839f25d086af736a60e9eeb907d3b93b6e0e5",
    "execution": {
     "iopub.execute_input": "2023-11-19T23:27:13.390682Z",
     "iopub.status.busy": "2023-11-19T23:27:13.390343Z",
     "iopub.status.idle": "2023-11-19T23:27:17.435774Z",
     "shell.execute_reply": "2023-11-19T23:27:17.434875Z"
    },
    "papermill": {
     "duration": 4.05522,
     "end_time": "2023-11-19T23:27:17.437595",
     "exception": false,
     "start_time": "2023-11-19T23:27:13.382375",
     "status": "completed"
    },
    "tags": []
   },
   "outputs": [
    {
     "name": "stdout",
     "output_type": "stream",
     "text": [
      "0 data sets loaded in.\n",
      "sample_submission.csv\n",
      "train_prompts.csv\n",
      "test_essays.csv\n",
      "train_essays.csv\n",
      "4 data sets loaded in.\n",
      "train_essays_RDizzl3_seven_v2.csv\n",
      "train_essays_7_prompts_v2.csv\n",
      "train_essays_7_prompts.csv\n",
      "train_essays_RDizzl3_seven_v1.csv\n",
      "8 data sets loaded in.\n"
     ]
    }
   ],
   "source": [
    "import numpy as np # linear algebra\n",
    "import pandas as pd # data processing, CSV file I/O (e.g. pd.read_csv)\n",
    "import os\n",
    "\n",
    "data_sets = []\n",
    "for dirname, _, filenames in os.walk('/kaggle/input'):\n",
    "    \n",
    "    for filename in filenames:\n",
    "        print(filename)\n",
    "        if filename == \"test_essays.csv\":\n",
    "            test = pd.read_csv(os.path.join(dirname, filename))\n",
    "        if filename == \"train_essays.csv\":\n",
    "            train = pd.read_csv(os.path.join(dirname, filename))\n",
    "        if filename == \"train_essays_RDizzl3_seven_v2.csv\":\n",
    "            generated_text = pd.read_csv(os.path.join(dirname, filename))\n",
    "        data_sets.append(pd.read_csv(os.path.join(dirname, filename)))\n",
    "    print(f\"{len(data_sets)} data sets loaded in.\")\n",
    "    \n",
    "    \n",
    "#test = train[10:10000]\n",
    "#sample_sub, training_prompts, test, train, _, _, _, generated_text = data_sets"
   ]
  },
  {
   "cell_type": "code",
   "execution_count": 2,
   "id": "89f90d74",
   "metadata": {
    "execution": {
     "iopub.execute_input": "2023-11-19T23:27:17.448557Z",
     "iopub.status.busy": "2023-11-19T23:27:17.448262Z",
     "iopub.status.idle": "2023-11-19T23:27:17.454018Z",
     "shell.execute_reply": "2023-11-19T23:27:17.453092Z"
    },
    "papermill": {
     "duration": 0.013203,
     "end_time": "2023-11-19T23:27:17.455846",
     "exception": false,
     "start_time": "2023-11-19T23:27:17.442643",
     "status": "completed"
    },
    "tags": []
   },
   "outputs": [
    {
     "name": "stdout",
     "output_type": "stream",
     "text": [
      "Supplementary dataset features:\n",
      "text     object\n",
      "label     int64\n",
      "dtype: object\n",
      "\n",
      "Original dataset features:\n",
      "id           object\n",
      "prompt_id     int64\n",
      "text         object\n",
      "generated     int64\n",
      "dtype: object\n"
     ]
    }
   ],
   "source": [
    "print(\"Supplementary dataset features:\")\n",
    "print(generated_text.dtypes)\n",
    "print(\"\\nOriginal dataset features:\")\n",
    "print(train.dtypes)\n"
   ]
  },
  {
   "cell_type": "markdown",
   "id": "d0f3d048",
   "metadata": {
    "papermill": {
     "duration": 0.004582,
     "end_time": "2023-11-19T23:27:17.465326",
     "exception": false,
     "start_time": "2023-11-19T23:27:17.460744",
     "status": "completed"
    },
    "tags": []
   },
   "source": [
    "As we can see, we need to make it so that these share a universal format so that we can combine the data together."
   ]
  },
  {
   "cell_type": "code",
   "execution_count": 3,
   "id": "29655dc0",
   "metadata": {
    "execution": {
     "iopub.execute_input": "2023-11-19T23:27:17.476159Z",
     "iopub.status.busy": "2023-11-19T23:27:17.475747Z",
     "iopub.status.idle": "2023-11-19T23:27:17.492021Z",
     "shell.execute_reply": "2023-11-19T23:27:17.491130Z"
    },
    "papermill": {
     "duration": 0.023491,
     "end_time": "2023-11-19T23:27:17.493675",
     "exception": false,
     "start_time": "2023-11-19T23:27:17.470184",
     "status": "completed"
    },
    "tags": []
   },
   "outputs": [
    {
     "data": {
      "text/html": [
       "<div>\n",
       "<style scoped>\n",
       "    .dataframe tbody tr th:only-of-type {\n",
       "        vertical-align: middle;\n",
       "    }\n",
       "\n",
       "    .dataframe tbody tr th {\n",
       "        vertical-align: top;\n",
       "    }\n",
       "\n",
       "    .dataframe thead th {\n",
       "        text-align: right;\n",
       "    }\n",
       "</style>\n",
       "<table border=\"1\" class=\"dataframe\">\n",
       "  <thead>\n",
       "    <tr style=\"text-align: right;\">\n",
       "      <th></th>\n",
       "      <th>id</th>\n",
       "      <th>prompt_id</th>\n",
       "      <th>text</th>\n",
       "    </tr>\n",
       "  </thead>\n",
       "  <tbody>\n",
       "    <tr>\n",
       "      <th>0</th>\n",
       "      <td>0000aaaa</td>\n",
       "      <td>2</td>\n",
       "      <td>Aaa bbb ccc.</td>\n",
       "    </tr>\n",
       "    <tr>\n",
       "      <th>1</th>\n",
       "      <td>1111bbbb</td>\n",
       "      <td>3</td>\n",
       "      <td>Bbb ccc ddd.</td>\n",
       "    </tr>\n",
       "    <tr>\n",
       "      <th>2</th>\n",
       "      <td>2222cccc</td>\n",
       "      <td>4</td>\n",
       "      <td>CCC ddd eee.</td>\n",
       "    </tr>\n",
       "  </tbody>\n",
       "</table>\n",
       "</div>"
      ],
      "text/plain": [
       "         id  prompt_id          text\n",
       "0  0000aaaa          2  Aaa bbb ccc.\n",
       "1  1111bbbb          3  Bbb ccc ddd.\n",
       "2  2222cccc          4  CCC ddd eee."
      ]
     },
     "execution_count": 3,
     "metadata": {},
     "output_type": "execute_result"
    }
   ],
   "source": [
    "test"
   ]
  },
  {
   "cell_type": "code",
   "execution_count": 4,
   "id": "349cac4a",
   "metadata": {
    "execution": {
     "iopub.execute_input": "2023-11-19T23:27:17.504529Z",
     "iopub.status.busy": "2023-11-19T23:27:17.504278Z",
     "iopub.status.idle": "2023-11-19T23:27:17.517010Z",
     "shell.execute_reply": "2023-11-19T23:27:17.516176Z"
    },
    "papermill": {
     "duration": 0.020058,
     "end_time": "2023-11-19T23:27:17.518624",
     "exception": false,
     "start_time": "2023-11-19T23:27:17.498566",
     "status": "completed"
    },
    "tags": []
   },
   "outputs": [
    {
     "data": {
      "text/html": [
       "<div>\n",
       "<style scoped>\n",
       "    .dataframe tbody tr th:only-of-type {\n",
       "        vertical-align: middle;\n",
       "    }\n",
       "\n",
       "    .dataframe tbody tr th {\n",
       "        vertical-align: top;\n",
       "    }\n",
       "\n",
       "    .dataframe thead th {\n",
       "        text-align: right;\n",
       "    }\n",
       "</style>\n",
       "<table border=\"1\" class=\"dataframe\">\n",
       "  <thead>\n",
       "    <tr style=\"text-align: right;\">\n",
       "      <th></th>\n",
       "      <th>text</th>\n",
       "      <th>generated</th>\n",
       "    </tr>\n",
       "  </thead>\n",
       "  <tbody>\n",
       "    <tr>\n",
       "      <th>0</th>\n",
       "      <td>Cars. Cars have been around since they became ...</td>\n",
       "      <td>0</td>\n",
       "    </tr>\n",
       "    <tr>\n",
       "      <th>1</th>\n",
       "      <td>Transportation is a large necessity in most co...</td>\n",
       "      <td>0</td>\n",
       "    </tr>\n",
       "    <tr>\n",
       "      <th>2</th>\n",
       "      <td>\"America's love affair with it's vehicles seem...</td>\n",
       "      <td>0</td>\n",
       "    </tr>\n",
       "    <tr>\n",
       "      <th>3</th>\n",
       "      <td>How often do you ride in a car? Do you drive a...</td>\n",
       "      <td>0</td>\n",
       "    </tr>\n",
       "    <tr>\n",
       "      <th>4</th>\n",
       "      <td>Cars are a wonderful thing. They are perhaps o...</td>\n",
       "      <td>0</td>\n",
       "    </tr>\n",
       "    <tr>\n",
       "      <th>...</th>\n",
       "      <td>...</td>\n",
       "      <td>...</td>\n",
       "    </tr>\n",
       "    <tr>\n",
       "      <th>17246</th>\n",
       "      <td>Dear Senator,\\n\\nI am writing to you today to ...</td>\n",
       "      <td>1</td>\n",
       "    </tr>\n",
       "    <tr>\n",
       "      <th>17247</th>\n",
       "      <td>Dear Senator,\\n\\nI am writing to you today to ...</td>\n",
       "      <td>1</td>\n",
       "    </tr>\n",
       "    <tr>\n",
       "      <th>17248</th>\n",
       "      <td>Dear Senator,\\n\\nI am writing to you today to ...</td>\n",
       "      <td>1</td>\n",
       "    </tr>\n",
       "    <tr>\n",
       "      <th>17249</th>\n",
       "      <td>Dear Senator,\\n\\nI am writing to you today to ...</td>\n",
       "      <td>1</td>\n",
       "    </tr>\n",
       "    <tr>\n",
       "      <th>17250</th>\n",
       "      <td>Dear Senator,\\n\\nI am writing to you today to ...</td>\n",
       "      <td>1</td>\n",
       "    </tr>\n",
       "  </tbody>\n",
       "</table>\n",
       "<p>17251 rows × 2 columns</p>\n",
       "</div>"
      ],
      "text/plain": [
       "                                                    text  generated\n",
       "0      Cars. Cars have been around since they became ...          0\n",
       "1      Transportation is a large necessity in most co...          0\n",
       "2      \"America's love affair with it's vehicles seem...          0\n",
       "3      How often do you ride in a car? Do you drive a...          0\n",
       "4      Cars are a wonderful thing. They are perhaps o...          0\n",
       "...                                                  ...        ...\n",
       "17246  Dear Senator,\\n\\nI am writing to you today to ...          1\n",
       "17247  Dear Senator,\\n\\nI am writing to you today to ...          1\n",
       "17248  Dear Senator,\\n\\nI am writing to you today to ...          1\n",
       "17249  Dear Senator,\\n\\nI am writing to you today to ...          1\n",
       "17250  Dear Senator,\\n\\nI am writing to you today to ...          1\n",
       "\n",
       "[17251 rows x 2 columns]"
      ]
     },
     "execution_count": 4,
     "metadata": {},
     "output_type": "execute_result"
    }
   ],
   "source": [
    "# Rename the label column to match original dataset\n",
    "generated_text.rename(columns={'label': 'generated'}, inplace=True)\n",
    "generated_text"
   ]
  },
  {
   "cell_type": "code",
   "execution_count": 5,
   "id": "0c3e5a34",
   "metadata": {
    "execution": {
     "iopub.execute_input": "2023-11-19T23:27:17.529646Z",
     "iopub.status.busy": "2023-11-19T23:27:17.529416Z",
     "iopub.status.idle": "2023-11-19T23:27:17.542394Z",
     "shell.execute_reply": "2023-11-19T23:27:17.541738Z"
    },
    "papermill": {
     "duration": 0.0202,
     "end_time": "2023-11-19T23:27:17.543892",
     "exception": false,
     "start_time": "2023-11-19T23:27:17.523692",
     "status": "completed"
    },
    "tags": []
   },
   "outputs": [
    {
     "data": {
      "text/html": [
       "<div>\n",
       "<style scoped>\n",
       "    .dataframe tbody tr th:only-of-type {\n",
       "        vertical-align: middle;\n",
       "    }\n",
       "\n",
       "    .dataframe tbody tr th {\n",
       "        vertical-align: top;\n",
       "    }\n",
       "\n",
       "    .dataframe thead th {\n",
       "        text-align: right;\n",
       "    }\n",
       "</style>\n",
       "<table border=\"1\" class=\"dataframe\">\n",
       "  <thead>\n",
       "    <tr style=\"text-align: right;\">\n",
       "      <th></th>\n",
       "      <th>text</th>\n",
       "      <th>generated</th>\n",
       "    </tr>\n",
       "  </thead>\n",
       "  <tbody>\n",
       "    <tr>\n",
       "      <th>0</th>\n",
       "      <td>Cars. Cars have been around since they became ...</td>\n",
       "      <td>0</td>\n",
       "    </tr>\n",
       "    <tr>\n",
       "      <th>1</th>\n",
       "      <td>Transportation is a large necessity in most co...</td>\n",
       "      <td>0</td>\n",
       "    </tr>\n",
       "    <tr>\n",
       "      <th>2</th>\n",
       "      <td>\"America's love affair with it's vehicles seem...</td>\n",
       "      <td>0</td>\n",
       "    </tr>\n",
       "    <tr>\n",
       "      <th>3</th>\n",
       "      <td>How often do you ride in a car? Do you drive a...</td>\n",
       "      <td>0</td>\n",
       "    </tr>\n",
       "    <tr>\n",
       "      <th>4</th>\n",
       "      <td>Cars are a wonderful thing. They are perhaps o...</td>\n",
       "      <td>0</td>\n",
       "    </tr>\n",
       "    <tr>\n",
       "      <th>...</th>\n",
       "      <td>...</td>\n",
       "      <td>...</td>\n",
       "    </tr>\n",
       "    <tr>\n",
       "      <th>1373</th>\n",
       "      <td>There has been a fuss about the Elector Colleg...</td>\n",
       "      <td>0</td>\n",
       "    </tr>\n",
       "    <tr>\n",
       "      <th>1374</th>\n",
       "      <td>Limiting car usage has many advantages. Such a...</td>\n",
       "      <td>0</td>\n",
       "    </tr>\n",
       "    <tr>\n",
       "      <th>1375</th>\n",
       "      <td>There's a new trend that has been developing f...</td>\n",
       "      <td>0</td>\n",
       "    </tr>\n",
       "    <tr>\n",
       "      <th>1376</th>\n",
       "      <td>As we all know cars are a big part of our soci...</td>\n",
       "      <td>0</td>\n",
       "    </tr>\n",
       "    <tr>\n",
       "      <th>1377</th>\n",
       "      <td>Cars have been around since the 1800's and hav...</td>\n",
       "      <td>0</td>\n",
       "    </tr>\n",
       "  </tbody>\n",
       "</table>\n",
       "<p>1378 rows × 2 columns</p>\n",
       "</div>"
      ],
      "text/plain": [
       "                                                   text  generated\n",
       "0     Cars. Cars have been around since they became ...          0\n",
       "1     Transportation is a large necessity in most co...          0\n",
       "2     \"America's love affair with it's vehicles seem...          0\n",
       "3     How often do you ride in a car? Do you drive a...          0\n",
       "4     Cars are a wonderful thing. They are perhaps o...          0\n",
       "...                                                 ...        ...\n",
       "1373  There has been a fuss about the Elector Colleg...          0\n",
       "1374  Limiting car usage has many advantages. Such a...          0\n",
       "1375  There's a new trend that has been developing f...          0\n",
       "1376  As we all know cars are a big part of our soci...          0\n",
       "1377  Cars have been around since the 1800's and hav...          0\n",
       "\n",
       "[1378 rows x 2 columns]"
      ]
     },
     "execution_count": 5,
     "metadata": {},
     "output_type": "execute_result"
    }
   ],
   "source": [
    "# Drop the two columns we don't need for training\n",
    "train.drop('id', axis='columns', inplace=True)\n",
    "train.drop('prompt_id', axis='columns', inplace=True)\n",
    "train"
   ]
  },
  {
   "cell_type": "code",
   "execution_count": 6,
   "id": "d30255f8",
   "metadata": {
    "execution": {
     "iopub.execute_input": "2023-11-19T23:27:17.555408Z",
     "iopub.status.busy": "2023-11-19T23:27:17.555168Z",
     "iopub.status.idle": "2023-11-19T23:27:17.559641Z",
     "shell.execute_reply": "2023-11-19T23:27:17.558972Z"
    },
    "papermill": {
     "duration": 0.012101,
     "end_time": "2023-11-19T23:27:17.561262",
     "exception": false,
     "start_time": "2023-11-19T23:27:17.549161",
     "status": "completed"
    },
    "tags": []
   },
   "outputs": [],
   "source": [
    "training_set = pd.concat([generated_text, train])"
   ]
  },
  {
   "cell_type": "code",
   "execution_count": 7,
   "id": "b0c84182",
   "metadata": {
    "execution": {
     "iopub.execute_input": "2023-11-19T23:27:17.572716Z",
     "iopub.status.busy": "2023-11-19T23:27:17.572494Z",
     "iopub.status.idle": "2023-11-19T23:27:17.586493Z",
     "shell.execute_reply": "2023-11-19T23:27:17.585829Z"
    },
    "papermill": {
     "duration": 0.021648,
     "end_time": "2023-11-19T23:27:17.588164",
     "exception": false,
     "start_time": "2023-11-19T23:27:17.566516",
     "status": "completed"
    },
    "tags": []
   },
   "outputs": [
    {
     "data": {
      "text/html": [
       "<div>\n",
       "<style scoped>\n",
       "    .dataframe tbody tr th:only-of-type {\n",
       "        vertical-align: middle;\n",
       "    }\n",
       "\n",
       "    .dataframe tbody tr th {\n",
       "        vertical-align: top;\n",
       "    }\n",
       "\n",
       "    .dataframe thead th {\n",
       "        text-align: right;\n",
       "    }\n",
       "</style>\n",
       "<table border=\"1\" class=\"dataframe\">\n",
       "  <thead>\n",
       "    <tr style=\"text-align: right;\">\n",
       "      <th></th>\n",
       "      <th>generated</th>\n",
       "    </tr>\n",
       "  </thead>\n",
       "  <tbody>\n",
       "    <tr>\n",
       "      <th>count</th>\n",
       "      <td>18629.000000</td>\n",
       "    </tr>\n",
       "    <tr>\n",
       "      <th>mean</th>\n",
       "      <td>0.161415</td>\n",
       "    </tr>\n",
       "    <tr>\n",
       "      <th>std</th>\n",
       "      <td>0.367923</td>\n",
       "    </tr>\n",
       "    <tr>\n",
       "      <th>min</th>\n",
       "      <td>0.000000</td>\n",
       "    </tr>\n",
       "    <tr>\n",
       "      <th>25%</th>\n",
       "      <td>0.000000</td>\n",
       "    </tr>\n",
       "    <tr>\n",
       "      <th>50%</th>\n",
       "      <td>0.000000</td>\n",
       "    </tr>\n",
       "    <tr>\n",
       "      <th>75%</th>\n",
       "      <td>0.000000</td>\n",
       "    </tr>\n",
       "    <tr>\n",
       "      <th>max</th>\n",
       "      <td>1.000000</td>\n",
       "    </tr>\n",
       "  </tbody>\n",
       "</table>\n",
       "</div>"
      ],
      "text/plain": [
       "          generated\n",
       "count  18629.000000\n",
       "mean       0.161415\n",
       "std        0.367923\n",
       "min        0.000000\n",
       "25%        0.000000\n",
       "50%        0.000000\n",
       "75%        0.000000\n",
       "max        1.000000"
      ]
     },
     "execution_count": 7,
     "metadata": {},
     "output_type": "execute_result"
    }
   ],
   "source": [
    "training_set.describe()"
   ]
  },
  {
   "cell_type": "code",
   "execution_count": 8,
   "id": "06b0084e",
   "metadata": {
    "execution": {
     "iopub.execute_input": "2023-11-19T23:27:17.600151Z",
     "iopub.status.busy": "2023-11-19T23:27:17.599855Z",
     "iopub.status.idle": "2023-11-19T23:27:29.246334Z",
     "shell.execute_reply": "2023-11-19T23:27:29.245491Z"
    },
    "papermill": {
     "duration": 11.655067,
     "end_time": "2023-11-19T23:27:29.248735",
     "exception": false,
     "start_time": "2023-11-19T23:27:17.593668",
     "status": "completed"
    },
    "tags": []
   },
   "outputs": [
    {
     "name": "stdout",
     "output_type": "stream",
     "text": [
      "Using TensorFlow backend\n"
     ]
    }
   ],
   "source": [
    "from sklearn.model_selection import train_test_split\n",
    "from sklearn.feature_extraction.text import TfidfVectorizer\n",
    "\n",
    "import keras_nlp\n",
    "import keras_core as keras\n",
    "\n",
    "\n",
    "\n",
    "import tensorflow as tf\n",
    "import tensorflow_hub as hub\n",
    "\n",
    "from tensorflow.keras.preprocessing.text import Tokenizer\n",
    "from tensorflow.keras.preprocessing.sequence import pad_sequences\n",
    "   \n",
    "\n",
    "from tensorflow.keras.models import Sequential\n",
    "from tensorflow.keras.layers import Embedding, LSTM, Dense, Input\n",
    "from tensorflow.keras.optimizers import Adam\n",
    "from tensorflow.keras.losses import BinaryCrossentropy\n",
    "from tensorflow.keras.metrics import BinaryAccuracy\n",
    "from tensorflow.keras.callbacks import EarlyStopping"
   ]
  },
  {
   "cell_type": "code",
   "execution_count": 9,
   "id": "be0f3def",
   "metadata": {
    "execution": {
     "iopub.execute_input": "2023-11-19T23:27:29.262084Z",
     "iopub.status.busy": "2023-11-19T23:27:29.261284Z",
     "iopub.status.idle": "2023-11-19T23:27:34.047720Z",
     "shell.execute_reply": "2023-11-19T23:27:34.047074Z"
    },
    "papermill": {
     "duration": 4.794959,
     "end_time": "2023-11-19T23:27:34.049578",
     "exception": false,
     "start_time": "2023-11-19T23:27:29.254619",
     "status": "completed"
    },
    "tags": []
   },
   "outputs": [],
   "source": [
    "isRealTest = True\n",
    "\n",
    "if isRealTest:\n",
    "    X_train = training_set['text']\n",
    "    y_train = training_set['generated']\n",
    "    \n",
    "    X_test = test['text']\n",
    "    X_testIDs = test['id']\n",
    "    \n",
    "    \n",
    "else:\n",
    "    X = training_set['text']\n",
    "    y = training_set['generated']\n",
    "\n",
    "    X_train, X_test, y_train, y_test = train_test_split(X, y, test_size = 0.2)\n",
    "\n",
    "vectorizer = TfidfVectorizer(max_features = 10000)\n",
    "X_train_tfidf = vectorizer.fit_transform(X_train).toarray()\n",
    "X_test_tfidf = vectorizer.fit_transform(X_test).toarray()\n",
    "\n",
    "desired_shape = 10000\n",
    "pad_width = desired_shape - X_test_tfidf.shape[1]\n",
    "# X_train_tfidf_padded = np.pad(X_train_tfidf, ((0, 0), (0, pad_width)), mode='constant')\n",
    "X_test_tfidf_padded = np.pad(X_test_tfidf, ((0, 0), (0, pad_width)), mode='constant')"
   ]
  },
  {
   "cell_type": "code",
   "execution_count": null,
   "id": "888c47d0",
   "metadata": {
    "papermill": {
     "duration": 0.005332,
     "end_time": "2023-11-19T23:27:34.061899",
     "exception": false,
     "start_time": "2023-11-19T23:27:34.056567",
     "status": "completed"
    },
    "tags": []
   },
   "outputs": [],
   "source": []
  },
  {
   "cell_type": "code",
   "execution_count": 10,
   "id": "fdfd02c3",
   "metadata": {
    "execution": {
     "iopub.execute_input": "2023-11-19T23:27:34.074604Z",
     "iopub.status.busy": "2023-11-19T23:27:34.074188Z",
     "iopub.status.idle": "2023-11-19T23:27:34.077398Z",
     "shell.execute_reply": "2023-11-19T23:27:34.076859Z"
    },
    "papermill": {
     "duration": 0.01136,
     "end_time": "2023-11-19T23:27:34.078836",
     "exception": false,
     "start_time": "2023-11-19T23:27:34.067476",
     "status": "completed"
    },
    "tags": []
   },
   "outputs": [],
   "source": [
    "# max_words = 10000\n",
    "# padding_length = 200\n",
    "\n",
    "# tokenizer = Tokenizer(num_words=max_words, oov_token=\"<OOV>\")\n",
    "# tokenizer.fit_on_texts(X_train)\n",
    "\n",
    "# # Tokenize them into vectors\n",
    "# # Each unique word represented by an integer\n",
    "# X_train_sequences = tokenizer.texts_to_sequences(X_train)\n",
    "# X_test_sequences = tokenizer.texts_to_sequences(X_test)\n",
    "\n",
    "# # Pad our data to ensure consistent length\n",
    "# X_train_padded = pad_sequences(X_train_sequences, maxlen=padding_length, padding='post', truncating='post')\n",
    "# X_test_padded = pad_sequences(X_test_sequences, maxlen=padding_length, padding='post', truncating='post')\n",
    "\n",
    "# vectorizer = TfidfVectorizer(max_features = 10000)\n",
    "# X_train_tfidf = vectorizer.fit_transform(X_train).toarray()\n",
    "# X_test_tfidf = vectorizer.fit_transform(X_test).toarray()"
   ]
  },
  {
   "cell_type": "code",
   "execution_count": 11,
   "id": "5ea881f1",
   "metadata": {
    "execution": {
     "iopub.execute_input": "2023-11-19T23:27:34.091964Z",
     "iopub.status.busy": "2023-11-19T23:27:34.091488Z",
     "iopub.status.idle": "2023-11-19T23:27:34.095945Z",
     "shell.execute_reply": "2023-11-19T23:27:34.095035Z"
    },
    "papermill": {
     "duration": 0.01318,
     "end_time": "2023-11-19T23:27:34.097555",
     "exception": false,
     "start_time": "2023-11-19T23:27:34.084375",
     "status": "completed"
    },
    "tags": []
   },
   "outputs": [
    {
     "name": "stdout",
     "output_type": "stream",
     "text": [
      "(3, 5)\n",
      "(3, 10000)\n"
     ]
    }
   ],
   "source": [
    "print(X_test_tfidf.shape)\n",
    "print(X_test_tfidf_padded.shape)\n",
    "# print(X_test_tfidf)"
   ]
  },
  {
   "cell_type": "code",
   "execution_count": 12,
   "id": "d1649f42",
   "metadata": {
    "execution": {
     "iopub.execute_input": "2023-11-19T23:27:34.109941Z",
     "iopub.status.busy": "2023-11-19T23:27:34.109473Z",
     "iopub.status.idle": "2023-11-19T23:27:34.464535Z",
     "shell.execute_reply": "2023-11-19T23:27:34.463680Z"
    },
    "papermill": {
     "duration": 0.363521,
     "end_time": "2023-11-19T23:27:34.466597",
     "exception": false,
     "start_time": "2023-11-19T23:27:34.103076",
     "status": "completed"
    },
    "tags": []
   },
   "outputs": [],
   "source": [
    "## Our first model, the LSTM\n",
    "LSTM_model = Sequential([\n",
    "    Embedding(input_dim=10000, output_dim=128, input_length=200),\n",
    "    LSTM(64),\n",
    "    Dense(1, activation='sigmoid')\n",
    "])\n",
    "\n",
    "\n",
    "## For a TF-IDF model\n",
    "TFIDF_model = Sequential([\n",
    "    Dense(units = 128, activation = 'relu'),\n",
    "    Dense(1, activation='sigmoid')\n",
    "])\n",
    "\n",
    "# Creating the model\n",
    "TFIDF_model.compile(optimizer='adam', loss='binary_crossentropy', metrics=['accuracy'])\n",
    "\n",
    "# TFIDF_model.build()\n",
    "# TFIDF_model.summary()"
   ]
  },
  {
   "cell_type": "code",
   "execution_count": 13,
   "id": "4f5cac2e",
   "metadata": {
    "execution": {
     "iopub.execute_input": "2023-11-19T23:27:34.479625Z",
     "iopub.status.busy": "2023-11-19T23:27:34.479356Z",
     "iopub.status.idle": "2023-11-19T23:27:34.486098Z",
     "shell.execute_reply": "2023-11-19T23:27:34.485315Z"
    },
    "papermill": {
     "duration": 0.015061,
     "end_time": "2023-11-19T23:27:34.487787",
     "exception": false,
     "start_time": "2023-11-19T23:27:34.472726",
     "status": "completed"
    },
    "tags": []
   },
   "outputs": [
    {
     "data": {
      "text/plain": [
       "10000"
      ]
     },
     "execution_count": 13,
     "metadata": {},
     "output_type": "execute_result"
    }
   ],
   "source": [
    "X_train_tfidf.shape[1]"
   ]
  },
  {
   "cell_type": "code",
   "execution_count": 14,
   "id": "7b2eaaf5",
   "metadata": {
    "execution": {
     "iopub.execute_input": "2023-11-19T23:27:34.500260Z",
     "iopub.status.busy": "2023-11-19T23:27:34.500009Z",
     "iopub.status.idle": "2023-11-19T23:27:52.999669Z",
     "shell.execute_reply": "2023-11-19T23:27:52.998975Z"
    },
    "papermill": {
     "duration": 18.50776,
     "end_time": "2023-11-19T23:27:53.001268",
     "exception": false,
     "start_time": "2023-11-19T23:27:34.493508",
     "status": "completed"
    },
    "tags": []
   },
   "outputs": [
    {
     "name": "stdout",
     "output_type": "stream",
     "text": [
      "Epoch 1/5\n",
      "583/583 [==============================] - 4s 6ms/step - loss: 0.0667 - accuracy: 0.9791\n",
      "Epoch 2/5\n",
      "583/583 [==============================] - 3s 6ms/step - loss: 0.0029 - accuracy: 0.9996\n",
      "Epoch 3/5\n",
      "583/583 [==============================] - 4s 6ms/step - loss: 8.1331e-04 - accuracy: 1.0000\n",
      "Epoch 4/5\n",
      "583/583 [==============================] - 3s 6ms/step - loss: 3.4238e-04 - accuracy: 1.0000\n",
      "Epoch 5/5\n",
      "583/583 [==============================] - 3s 6ms/step - loss: 1.8371e-04 - accuracy: 1.0000\n"
     ]
    },
    {
     "data": {
      "text/plain": [
       "<keras.src.callbacks.History at 0x7d9202695e40>"
      ]
     },
     "execution_count": 14,
     "metadata": {},
     "output_type": "execute_result"
    }
   ],
   "source": [
    "# Train the model\n",
    "TFIDF_model.fit(X_train_tfidf, y_train, epochs=5, batch_size=32)\n",
    "\n",
    "# y_train = y_train.astype(np.float32)\n",
    "# if not isRealTest:\n",
    "#     y_test  = y_test .astype(np.float32)\n",
    "\n",
    "# early_stopping = EarlyStopping(monitor='val_loss', patience=3, restore_best_weights=True)\n",
    "\n"
   ]
  },
  {
   "cell_type": "code",
   "execution_count": 15,
   "id": "9a1dd546",
   "metadata": {
    "execution": {
     "iopub.execute_input": "2023-11-19T23:27:53.051061Z",
     "iopub.status.busy": "2023-11-19T23:27:53.050771Z",
     "iopub.status.idle": "2023-11-19T23:27:53.055313Z",
     "shell.execute_reply": "2023-11-19T23:27:53.054671Z"
    },
    "papermill": {
     "duration": 0.031332,
     "end_time": "2023-11-19T23:27:53.056893",
     "exception": false,
     "start_time": "2023-11-19T23:27:53.025561",
     "status": "completed"
    },
    "tags": []
   },
   "outputs": [],
   "source": [
    "if not isRealTest:\n",
    "    # Evaluate the model on the test set\n",
    "    loss, accuracy = TFIDF_model.evaluate(X_test_tfidf_padded, y_test)\n",
    "    print(f\"Test Loss: {loss:.4f}, Test Accuracy: {accuracy:.4f}\")"
   ]
  },
  {
   "cell_type": "code",
   "execution_count": 16,
   "id": "6ce58ca6",
   "metadata": {
    "execution": {
     "iopub.execute_input": "2023-11-19T23:27:53.105079Z",
     "iopub.status.busy": "2023-11-19T23:27:53.104830Z",
     "iopub.status.idle": "2023-11-19T23:27:53.108711Z",
     "shell.execute_reply": "2023-11-19T23:27:53.107891Z"
    },
    "papermill": {
     "duration": 0.029846,
     "end_time": "2023-11-19T23:27:53.110348",
     "exception": false,
     "start_time": "2023-11-19T23:27:53.080502",
     "status": "completed"
    },
    "tags": []
   },
   "outputs": [
    {
     "name": "stdout",
     "output_type": "stream",
     "text": [
      "(3, 5)\n"
     ]
    }
   ],
   "source": [
    "print(X_test_tfidf.shape)"
   ]
  },
  {
   "cell_type": "code",
   "execution_count": 17,
   "id": "62d50d82",
   "metadata": {
    "execution": {
     "iopub.execute_input": "2023-11-19T23:27:53.158591Z",
     "iopub.status.busy": "2023-11-19T23:27:53.158343Z",
     "iopub.status.idle": "2023-11-19T23:27:53.260850Z",
     "shell.execute_reply": "2023-11-19T23:27:53.260278Z"
    },
    "papermill": {
     "duration": 0.128361,
     "end_time": "2023-11-19T23:27:53.262378",
     "exception": false,
     "start_time": "2023-11-19T23:27:53.134017",
     "status": "completed"
    },
    "tags": []
   },
   "outputs": [
    {
     "name": "stdout",
     "output_type": "stream",
     "text": [
      "1/1 [==============================] - 0s 64ms/step\n"
     ]
    }
   ],
   "source": [
    "from sklearn.metrics import confusion_matrix, classification_report\n",
    "\n",
    "# Predictions on the test set\n",
    "y_pred = TFIDF_model.predict(X_test_tfidf_padded)\n",
    "\n",
    "# Convert probabilities to class labels\n",
    "y_pred_labels = np.round(y_pred)"
   ]
  },
  {
   "cell_type": "code",
   "execution_count": 18,
   "id": "c2d57d1d",
   "metadata": {
    "execution": {
     "iopub.execute_input": "2023-11-19T23:27:53.350629Z",
     "iopub.status.busy": "2023-11-19T23:27:53.350069Z",
     "iopub.status.idle": "2023-11-19T23:27:53.355018Z",
     "shell.execute_reply": "2023-11-19T23:27:53.354446Z"
    },
    "papermill": {
     "duration": 0.069376,
     "end_time": "2023-11-19T23:27:53.356389",
     "exception": false,
     "start_time": "2023-11-19T23:27:53.287013",
     "status": "completed"
    },
    "tags": []
   },
   "outputs": [],
   "source": [
    "if not isRealTest:\n",
    "    # Confusion matrix\n",
    "    conf_matrix = confusion_matrix(y_test, y_pred_labels)\n",
    "    print(\"Confusion Matrix:\")\n",
    "    print(conf_matrix)\n",
    "\n",
    "    # Classification report\n",
    "    class_report = classification_report(y_test, y_pred_labels)\n",
    "    print(\"\\nClassification Report:\")\n",
    "    print(class_report)\n",
    "\n",
    "if isRealTest:\n",
    "    submission = pd.DataFrame({'id': list(X_testIDs), 'generated': y_pred.flatten()})"
   ]
  },
  {
   "cell_type": "code",
   "execution_count": 19,
   "id": "960a2b04",
   "metadata": {
    "execution": {
     "iopub.execute_input": "2023-11-19T23:27:53.405636Z",
     "iopub.status.busy": "2023-11-19T23:27:53.405361Z",
     "iopub.status.idle": "2023-11-19T23:27:53.411601Z",
     "shell.execute_reply": "2023-11-19T23:27:53.410819Z"
    },
    "papermill": {
     "duration": 0.032866,
     "end_time": "2023-11-19T23:27:53.413238",
     "exception": false,
     "start_time": "2023-11-19T23:27:53.380372",
     "status": "completed"
    },
    "tags": []
   },
   "outputs": [],
   "source": [
    "submission.to_csv('/kaggle/working/submission.csv', index=False)"
   ]
  },
  {
   "cell_type": "code",
   "execution_count": 20,
   "id": "c89074b3",
   "metadata": {
    "execution": {
     "iopub.execute_input": "2023-11-19T23:27:53.463528Z",
     "iopub.status.busy": "2023-11-19T23:27:53.462807Z",
     "iopub.status.idle": "2023-11-19T23:27:53.470444Z",
     "shell.execute_reply": "2023-11-19T23:27:53.469809Z"
    },
    "papermill": {
     "duration": 0.034248,
     "end_time": "2023-11-19T23:27:53.471982",
     "exception": false,
     "start_time": "2023-11-19T23:27:53.437734",
     "status": "completed"
    },
    "tags": []
   },
   "outputs": [
    {
     "data": {
      "text/html": [
       "<div>\n",
       "<style scoped>\n",
       "    .dataframe tbody tr th:only-of-type {\n",
       "        vertical-align: middle;\n",
       "    }\n",
       "\n",
       "    .dataframe tbody tr th {\n",
       "        vertical-align: top;\n",
       "    }\n",
       "\n",
       "    .dataframe thead th {\n",
       "        text-align: right;\n",
       "    }\n",
       "</style>\n",
       "<table border=\"1\" class=\"dataframe\">\n",
       "  <thead>\n",
       "    <tr style=\"text-align: right;\">\n",
       "      <th></th>\n",
       "      <th>id</th>\n",
       "      <th>generated</th>\n",
       "    </tr>\n",
       "  </thead>\n",
       "  <tbody>\n",
       "    <tr>\n",
       "      <th>0</th>\n",
       "      <td>0000aaaa</td>\n",
       "      <td>0.247398</td>\n",
       "    </tr>\n",
       "    <tr>\n",
       "      <th>1</th>\n",
       "      <td>1111bbbb</td>\n",
       "      <td>0.407894</td>\n",
       "    </tr>\n",
       "    <tr>\n",
       "      <th>2</th>\n",
       "      <td>2222cccc</td>\n",
       "      <td>0.232640</td>\n",
       "    </tr>\n",
       "  </tbody>\n",
       "</table>\n",
       "</div>"
      ],
      "text/plain": [
       "         id  generated\n",
       "0  0000aaaa   0.247398\n",
       "1  1111bbbb   0.407894\n",
       "2  2222cccc   0.232640"
      ]
     },
     "execution_count": 20,
     "metadata": {},
     "output_type": "execute_result"
    }
   ],
   "source": [
    "submission"
   ]
  }
 ],
 "metadata": {
  "kaggle": {
   "accelerator": "none",
   "dataSources": [
    {
     "databundleVersionId": 6888007,
     "sourceId": 61542,
     "sourceType": "competition"
    },
    {
     "datasetId": 3961875,
     "sourceId": 6971638,
     "sourceType": "datasetVersion"
    }
   ],
   "dockerImageVersionId": 30587,
   "isGpuEnabled": false,
   "isInternetEnabled": false,
   "language": "python",
   "sourceType": "notebook"
  },
  "kernelspec": {
   "display_name": "Python 3",
   "language": "python",
   "name": "python3"
  },
  "language_info": {
   "codemirror_mode": {
    "name": "ipython",
    "version": 3
   },
   "file_extension": ".py",
   "mimetype": "text/x-python",
   "name": "python",
   "nbconvert_exporter": "python",
   "pygments_lexer": "ipython3",
   "version": "3.10.12"
  },
  "papermill": {
   "default_parameters": {},
   "duration": 45.665934,
   "end_time": "2023-11-19T23:27:55.893367",
   "environment_variables": {},
   "exception": null,
   "input_path": "__notebook__.ipynb",
   "output_path": "__notebook__.ipynb",
   "parameters": {},
   "start_time": "2023-11-19T23:27:10.227433",
   "version": "2.4.0"
  }
 },
 "nbformat": 4,
 "nbformat_minor": 5
}
