{
 "cells": [
  {
   "cell_type": "code",
   "execution_count": 1,
   "id": "1e6dd0d4",
   "metadata": {
    "_cell_guid": "b1076dfc-b9ad-4769-8c92-a6c4dae69d19",
    "_uuid": "8f2839f25d086af736a60e9eeb907d3b93b6e0e5",
    "execution": {
     "iopub.execute_input": "2023-11-20T01:29:18.060405Z",
     "iopub.status.busy": "2023-11-20T01:29:18.059986Z",
     "iopub.status.idle": "2023-11-20T01:29:22.300940Z",
     "shell.execute_reply": "2023-11-20T01:29:22.299125Z"
    },
    "papermill": {
     "duration": 4.252781,
     "end_time": "2023-11-20T01:29:22.303302",
     "exception": false,
     "start_time": "2023-11-20T01:29:18.050521",
     "status": "completed"
    },
    "tags": []
   },
   "outputs": [
    {
     "name": "stdout",
     "output_type": "stream",
     "text": [
      "0 data sets loaded in.\n",
      "train_essays_RDizzl3_seven_v2.csv\n",
      "train_essays_7_prompts_v2.csv\n",
      "train_essays_7_prompts.csv\n",
      "train_essays_RDizzl3_seven_v1.csv\n",
      "4 data sets loaded in.\n",
      "sample_submission.csv\n",
      "train_prompts.csv\n",
      "test_essays.csv\n",
      "train_essays.csv\n",
      "8 data sets loaded in.\n"
     ]
    }
   ],
   "source": [
    "import numpy as np # linear algebra\n",
    "import pandas as pd # data processing, CSV file I/O (e.g. pd.read_csv)\n",
    "import os\n",
    "\n",
    "data_sets = []\n",
    "for dirname, _, filenames in os.walk('/kaggle/input'):\n",
    "    \n",
    "    for filename in filenames:\n",
    "        print(filename)\n",
    "        if filename == \"test_essays.csv\":\n",
    "            test = pd.read_csv(os.path.join(dirname, filename))\n",
    "        if filename == \"train_essays.csv\":\n",
    "            train = pd.read_csv(os.path.join(dirname, filename))\n",
    "        if filename == \"train_essays_RDizzl3_seven_v2.csv\":\n",
    "            generated_text = pd.read_csv(os.path.join(dirname, filename))\n",
    "        data_sets.append(pd.read_csv(os.path.join(dirname, filename)))\n",
    "    print(f\"{len(data_sets)} data sets loaded in.\")\n",
    "    \n",
    "    \n",
    "#test = train[10:100]\n",
    "#sample_sub, training_prompts, test, train, _, _, _, generated_text = data_sets"
   ]
  },
  {
   "cell_type": "code",
   "execution_count": 2,
   "id": "2f40897a",
   "metadata": {
    "execution": {
     "iopub.execute_input": "2023-11-20T01:29:22.316443Z",
     "iopub.status.busy": "2023-11-20T01:29:22.316056Z",
     "iopub.status.idle": "2023-11-20T01:29:22.323765Z",
     "shell.execute_reply": "2023-11-20T01:29:22.322050Z"
    },
    "papermill": {
     "duration": 0.017007,
     "end_time": "2023-11-20T01:29:22.326169",
     "exception": false,
     "start_time": "2023-11-20T01:29:22.309162",
     "status": "completed"
    },
    "tags": []
   },
   "outputs": [
    {
     "name": "stdout",
     "output_type": "stream",
     "text": [
      "Supplementary dataset features:\n",
      "text     object\n",
      "label     int64\n",
      "dtype: object\n",
      "\n",
      "Original dataset features:\n",
      "id           object\n",
      "prompt_id     int64\n",
      "text         object\n",
      "generated     int64\n",
      "dtype: object\n"
     ]
    }
   ],
   "source": [
    "print(\"Supplementary dataset features:\")\n",
    "print(generated_text.dtypes)\n",
    "print(\"\\nOriginal dataset features:\")\n",
    "print(train.dtypes)\n"
   ]
  },
  {
   "cell_type": "markdown",
   "id": "fcc474d4",
   "metadata": {
    "papermill": {
     "duration": 0.005361,
     "end_time": "2023-11-20T01:29:22.337348",
     "exception": false,
     "start_time": "2023-11-20T01:29:22.331987",
     "status": "completed"
    },
    "tags": []
   },
   "source": [
    "As we can see, we need to make it so that these share a universal format so that we can combine the data together."
   ]
  },
  {
   "cell_type": "code",
   "execution_count": 3,
   "id": "0f2d8acb",
   "metadata": {
    "execution": {
     "iopub.execute_input": "2023-11-20T01:29:22.350994Z",
     "iopub.status.busy": "2023-11-20T01:29:22.350627Z",
     "iopub.status.idle": "2023-11-20T01:29:22.376448Z",
     "shell.execute_reply": "2023-11-20T01:29:22.375424Z"
    },
    "papermill": {
     "duration": 0.034845,
     "end_time": "2023-11-20T01:29:22.378431",
     "exception": false,
     "start_time": "2023-11-20T01:29:22.343586",
     "status": "completed"
    },
    "tags": []
   },
   "outputs": [
    {
     "data": {
      "text/html": [
       "<div>\n",
       "<style scoped>\n",
       "    .dataframe tbody tr th:only-of-type {\n",
       "        vertical-align: middle;\n",
       "    }\n",
       "\n",
       "    .dataframe tbody tr th {\n",
       "        vertical-align: top;\n",
       "    }\n",
       "\n",
       "    .dataframe thead th {\n",
       "        text-align: right;\n",
       "    }\n",
       "</style>\n",
       "<table border=\"1\" class=\"dataframe\">\n",
       "  <thead>\n",
       "    <tr style=\"text-align: right;\">\n",
       "      <th></th>\n",
       "      <th>id</th>\n",
       "      <th>prompt_id</th>\n",
       "      <th>text</th>\n",
       "    </tr>\n",
       "  </thead>\n",
       "  <tbody>\n",
       "    <tr>\n",
       "      <th>0</th>\n",
       "      <td>0000aaaa</td>\n",
       "      <td>2</td>\n",
       "      <td>Aaa bbb ccc.</td>\n",
       "    </tr>\n",
       "    <tr>\n",
       "      <th>1</th>\n",
       "      <td>1111bbbb</td>\n",
       "      <td>3</td>\n",
       "      <td>Bbb ccc ddd.</td>\n",
       "    </tr>\n",
       "    <tr>\n",
       "      <th>2</th>\n",
       "      <td>2222cccc</td>\n",
       "      <td>4</td>\n",
       "      <td>CCC ddd eee.</td>\n",
       "    </tr>\n",
       "  </tbody>\n",
       "</table>\n",
       "</div>"
      ],
      "text/plain": [
       "         id  prompt_id          text\n",
       "0  0000aaaa          2  Aaa bbb ccc.\n",
       "1  1111bbbb          3  Bbb ccc ddd.\n",
       "2  2222cccc          4  CCC ddd eee."
      ]
     },
     "execution_count": 3,
     "metadata": {},
     "output_type": "execute_result"
    }
   ],
   "source": [
    "test"
   ]
  },
  {
   "cell_type": "code",
   "execution_count": 4,
   "id": "2c6ede04",
   "metadata": {
    "execution": {
     "iopub.execute_input": "2023-11-20T01:29:22.391595Z",
     "iopub.status.busy": "2023-11-20T01:29:22.391202Z",
     "iopub.status.idle": "2023-11-20T01:29:22.410624Z",
     "shell.execute_reply": "2023-11-20T01:29:22.409609Z"
    },
    "papermill": {
     "duration": 0.028282,
     "end_time": "2023-11-20T01:29:22.412573",
     "exception": false,
     "start_time": "2023-11-20T01:29:22.384291",
     "status": "completed"
    },
    "tags": []
   },
   "outputs": [
    {
     "data": {
      "text/html": [
       "<div>\n",
       "<style scoped>\n",
       "    .dataframe tbody tr th:only-of-type {\n",
       "        vertical-align: middle;\n",
       "    }\n",
       "\n",
       "    .dataframe tbody tr th {\n",
       "        vertical-align: top;\n",
       "    }\n",
       "\n",
       "    .dataframe thead th {\n",
       "        text-align: right;\n",
       "    }\n",
       "</style>\n",
       "<table border=\"1\" class=\"dataframe\">\n",
       "  <thead>\n",
       "    <tr style=\"text-align: right;\">\n",
       "      <th></th>\n",
       "      <th>text</th>\n",
       "      <th>generated</th>\n",
       "    </tr>\n",
       "  </thead>\n",
       "  <tbody>\n",
       "    <tr>\n",
       "      <th>0</th>\n",
       "      <td>Cars. Cars have been around since they became ...</td>\n",
       "      <td>0</td>\n",
       "    </tr>\n",
       "    <tr>\n",
       "      <th>1</th>\n",
       "      <td>Transportation is a large necessity in most co...</td>\n",
       "      <td>0</td>\n",
       "    </tr>\n",
       "    <tr>\n",
       "      <th>2</th>\n",
       "      <td>\"America's love affair with it's vehicles seem...</td>\n",
       "      <td>0</td>\n",
       "    </tr>\n",
       "    <tr>\n",
       "      <th>3</th>\n",
       "      <td>How often do you ride in a car? Do you drive a...</td>\n",
       "      <td>0</td>\n",
       "    </tr>\n",
       "    <tr>\n",
       "      <th>4</th>\n",
       "      <td>Cars are a wonderful thing. They are perhaps o...</td>\n",
       "      <td>0</td>\n",
       "    </tr>\n",
       "    <tr>\n",
       "      <th>...</th>\n",
       "      <td>...</td>\n",
       "      <td>...</td>\n",
       "    </tr>\n",
       "    <tr>\n",
       "      <th>17246</th>\n",
       "      <td>Dear Senator,\\n\\nI am writing to you today to ...</td>\n",
       "      <td>1</td>\n",
       "    </tr>\n",
       "    <tr>\n",
       "      <th>17247</th>\n",
       "      <td>Dear Senator,\\n\\nI am writing to you today to ...</td>\n",
       "      <td>1</td>\n",
       "    </tr>\n",
       "    <tr>\n",
       "      <th>17248</th>\n",
       "      <td>Dear Senator,\\n\\nI am writing to you today to ...</td>\n",
       "      <td>1</td>\n",
       "    </tr>\n",
       "    <tr>\n",
       "      <th>17249</th>\n",
       "      <td>Dear Senator,\\n\\nI am writing to you today to ...</td>\n",
       "      <td>1</td>\n",
       "    </tr>\n",
       "    <tr>\n",
       "      <th>17250</th>\n",
       "      <td>Dear Senator,\\n\\nI am writing to you today to ...</td>\n",
       "      <td>1</td>\n",
       "    </tr>\n",
       "  </tbody>\n",
       "</table>\n",
       "<p>17251 rows × 2 columns</p>\n",
       "</div>"
      ],
      "text/plain": [
       "                                                    text  generated\n",
       "0      Cars. Cars have been around since they became ...          0\n",
       "1      Transportation is a large necessity in most co...          0\n",
       "2      \"America's love affair with it's vehicles seem...          0\n",
       "3      How often do you ride in a car? Do you drive a...          0\n",
       "4      Cars are a wonderful thing. They are perhaps o...          0\n",
       "...                                                  ...        ...\n",
       "17246  Dear Senator,\\n\\nI am writing to you today to ...          1\n",
       "17247  Dear Senator,\\n\\nI am writing to you today to ...          1\n",
       "17248  Dear Senator,\\n\\nI am writing to you today to ...          1\n",
       "17249  Dear Senator,\\n\\nI am writing to you today to ...          1\n",
       "17250  Dear Senator,\\n\\nI am writing to you today to ...          1\n",
       "\n",
       "[17251 rows x 2 columns]"
      ]
     },
     "execution_count": 4,
     "metadata": {},
     "output_type": "execute_result"
    }
   ],
   "source": [
    "# Rename the label column to match original dataset\n",
    "generated_text.rename(columns={'label': 'generated'}, inplace=True)\n",
    "generated_text"
   ]
  },
  {
   "cell_type": "code",
   "execution_count": 5,
   "id": "24c1ba62",
   "metadata": {
    "execution": {
     "iopub.execute_input": "2023-11-20T01:29:22.426612Z",
     "iopub.status.busy": "2023-11-20T01:29:22.426227Z",
     "iopub.status.idle": "2023-11-20T01:29:22.442948Z",
     "shell.execute_reply": "2023-11-20T01:29:22.441893Z"
    },
    "papermill": {
     "duration": 0.02622,
     "end_time": "2023-11-20T01:29:22.445070",
     "exception": false,
     "start_time": "2023-11-20T01:29:22.418850",
     "status": "completed"
    },
    "tags": []
   },
   "outputs": [
    {
     "data": {
      "text/html": [
       "<div>\n",
       "<style scoped>\n",
       "    .dataframe tbody tr th:only-of-type {\n",
       "        vertical-align: middle;\n",
       "    }\n",
       "\n",
       "    .dataframe tbody tr th {\n",
       "        vertical-align: top;\n",
       "    }\n",
       "\n",
       "    .dataframe thead th {\n",
       "        text-align: right;\n",
       "    }\n",
       "</style>\n",
       "<table border=\"1\" class=\"dataframe\">\n",
       "  <thead>\n",
       "    <tr style=\"text-align: right;\">\n",
       "      <th></th>\n",
       "      <th>text</th>\n",
       "      <th>generated</th>\n",
       "    </tr>\n",
       "  </thead>\n",
       "  <tbody>\n",
       "    <tr>\n",
       "      <th>0</th>\n",
       "      <td>Cars. Cars have been around since they became ...</td>\n",
       "      <td>0</td>\n",
       "    </tr>\n",
       "    <tr>\n",
       "      <th>1</th>\n",
       "      <td>Transportation is a large necessity in most co...</td>\n",
       "      <td>0</td>\n",
       "    </tr>\n",
       "    <tr>\n",
       "      <th>2</th>\n",
       "      <td>\"America's love affair with it's vehicles seem...</td>\n",
       "      <td>0</td>\n",
       "    </tr>\n",
       "    <tr>\n",
       "      <th>3</th>\n",
       "      <td>How often do you ride in a car? Do you drive a...</td>\n",
       "      <td>0</td>\n",
       "    </tr>\n",
       "    <tr>\n",
       "      <th>4</th>\n",
       "      <td>Cars are a wonderful thing. They are perhaps o...</td>\n",
       "      <td>0</td>\n",
       "    </tr>\n",
       "    <tr>\n",
       "      <th>...</th>\n",
       "      <td>...</td>\n",
       "      <td>...</td>\n",
       "    </tr>\n",
       "    <tr>\n",
       "      <th>1373</th>\n",
       "      <td>There has been a fuss about the Elector Colleg...</td>\n",
       "      <td>0</td>\n",
       "    </tr>\n",
       "    <tr>\n",
       "      <th>1374</th>\n",
       "      <td>Limiting car usage has many advantages. Such a...</td>\n",
       "      <td>0</td>\n",
       "    </tr>\n",
       "    <tr>\n",
       "      <th>1375</th>\n",
       "      <td>There's a new trend that has been developing f...</td>\n",
       "      <td>0</td>\n",
       "    </tr>\n",
       "    <tr>\n",
       "      <th>1376</th>\n",
       "      <td>As we all know cars are a big part of our soci...</td>\n",
       "      <td>0</td>\n",
       "    </tr>\n",
       "    <tr>\n",
       "      <th>1377</th>\n",
       "      <td>Cars have been around since the 1800's and hav...</td>\n",
       "      <td>0</td>\n",
       "    </tr>\n",
       "  </tbody>\n",
       "</table>\n",
       "<p>1378 rows × 2 columns</p>\n",
       "</div>"
      ],
      "text/plain": [
       "                                                   text  generated\n",
       "0     Cars. Cars have been around since they became ...          0\n",
       "1     Transportation is a large necessity in most co...          0\n",
       "2     \"America's love affair with it's vehicles seem...          0\n",
       "3     How often do you ride in a car? Do you drive a...          0\n",
       "4     Cars are a wonderful thing. They are perhaps o...          0\n",
       "...                                                 ...        ...\n",
       "1373  There has been a fuss about the Elector Colleg...          0\n",
       "1374  Limiting car usage has many advantages. Such a...          0\n",
       "1375  There's a new trend that has been developing f...          0\n",
       "1376  As we all know cars are a big part of our soci...          0\n",
       "1377  Cars have been around since the 1800's and hav...          0\n",
       "\n",
       "[1378 rows x 2 columns]"
      ]
     },
     "execution_count": 5,
     "metadata": {},
     "output_type": "execute_result"
    }
   ],
   "source": [
    "# Drop the two columns we don't need for training\n",
    "train.drop('id', axis='columns', inplace=True)\n",
    "train.drop('prompt_id', axis='columns', inplace=True)\n",
    "train"
   ]
  },
  {
   "cell_type": "code",
   "execution_count": 6,
   "id": "93b89fc9",
   "metadata": {
    "execution": {
     "iopub.execute_input": "2023-11-20T01:29:22.459611Z",
     "iopub.status.busy": "2023-11-20T01:29:22.459202Z",
     "iopub.status.idle": "2023-11-20T01:29:22.467706Z",
     "shell.execute_reply": "2023-11-20T01:29:22.466074Z"
    },
    "papermill": {
     "duration": 0.018756,
     "end_time": "2023-11-20T01:29:22.470333",
     "exception": false,
     "start_time": "2023-11-20T01:29:22.451577",
     "status": "completed"
    },
    "tags": []
   },
   "outputs": [],
   "source": [
    "training_set = pd.concat([generated_text, train])"
   ]
  },
  {
   "cell_type": "code",
   "execution_count": 7,
   "id": "0f4f903b",
   "metadata": {
    "execution": {
     "iopub.execute_input": "2023-11-20T01:29:22.485467Z",
     "iopub.status.busy": "2023-11-20T01:29:22.484646Z",
     "iopub.status.idle": "2023-11-20T01:29:22.502315Z",
     "shell.execute_reply": "2023-11-20T01:29:22.501325Z"
    },
    "papermill": {
     "duration": 0.028284,
     "end_time": "2023-11-20T01:29:22.504973",
     "exception": false,
     "start_time": "2023-11-20T01:29:22.476689",
     "status": "completed"
    },
    "tags": []
   },
   "outputs": [
    {
     "data": {
      "text/plain": [
       "generated\n",
       "0    15622\n",
       "1     3007\n",
       "Name: count, dtype: int64"
      ]
     },
     "execution_count": 7,
     "metadata": {},
     "output_type": "execute_result"
    }
   ],
   "source": [
    "training_set['generated'].value_counts()"
   ]
  },
  {
   "cell_type": "markdown",
   "id": "be0166e3",
   "metadata": {
    "papermill": {
     "duration": 0.006162,
     "end_time": "2023-11-20T01:29:22.518156",
     "exception": false,
     "start_time": "2023-11-20T01:29:22.511994",
     "status": "completed"
    },
    "tags": []
   },
   "source": [
    "## Undersample to get an even distribution"
   ]
  },
  {
   "cell_type": "code",
   "execution_count": 8,
   "id": "02d1d46a",
   "metadata": {
    "execution": {
     "iopub.execute_input": "2023-11-20T01:29:22.533550Z",
     "iopub.status.busy": "2023-11-20T01:29:22.532806Z",
     "iopub.status.idle": "2023-11-20T01:29:22.548786Z",
     "shell.execute_reply": "2023-11-20T01:29:22.547206Z"
    },
    "papermill": {
     "duration": 0.026391,
     "end_time": "2023-11-20T01:29:22.551082",
     "exception": false,
     "start_time": "2023-11-20T01:29:22.524691",
     "status": "completed"
    },
    "tags": []
   },
   "outputs": [],
   "source": [
    "pos = training_set[training_set['generated']==1]\n",
    "neg = training_set[training_set['generated']==0]\n",
    "neg = neg.sample(n=len(pos), random_state = 21)\n",
    "\n",
    "training_set = pd.concat([pos, neg])"
   ]
  },
  {
   "cell_type": "code",
   "execution_count": 9,
   "id": "603e1320",
   "metadata": {
    "execution": {
     "iopub.execute_input": "2023-11-20T01:29:22.567309Z",
     "iopub.status.busy": "2023-11-20T01:29:22.566128Z",
     "iopub.status.idle": "2023-11-20T01:29:22.574424Z",
     "shell.execute_reply": "2023-11-20T01:29:22.573463Z"
    },
    "papermill": {
     "duration": 0.019066,
     "end_time": "2023-11-20T01:29:22.576702",
     "exception": false,
     "start_time": "2023-11-20T01:29:22.557636",
     "status": "completed"
    },
    "tags": []
   },
   "outputs": [
    {
     "data": {
      "text/plain": [
       "generated\n",
       "1    3007\n",
       "0    3007\n",
       "Name: count, dtype: int64"
      ]
     },
     "execution_count": 9,
     "metadata": {},
     "output_type": "execute_result"
    }
   ],
   "source": [
    "training_set['generated'].value_counts()"
   ]
  },
  {
   "cell_type": "code",
   "execution_count": 10,
   "id": "a3cefa92",
   "metadata": {
    "execution": {
     "iopub.execute_input": "2023-11-20T01:29:22.591973Z",
     "iopub.status.busy": "2023-11-20T01:29:22.591597Z",
     "iopub.status.idle": "2023-11-20T01:29:38.467832Z",
     "shell.execute_reply": "2023-11-20T01:29:38.465900Z"
    },
    "papermill": {
     "duration": 15.887015,
     "end_time": "2023-11-20T01:29:38.470546",
     "exception": false,
     "start_time": "2023-11-20T01:29:22.583531",
     "status": "completed"
    },
    "tags": []
   },
   "outputs": [
    {
     "name": "stdout",
     "output_type": "stream",
     "text": [
      "Using TensorFlow backend\n"
     ]
    }
   ],
   "source": [
    "from sklearn.model_selection import train_test_split\n",
    "import keras_nlp\n",
    "import keras_core as keras\n",
    "\n",
    "import tensorflow as tf\n",
    "import tensorflow_hub as hub\n",
    "\n",
    "from tensorflow.keras.preprocessing.text import Tokenizer\n",
    "from tensorflow.keras.preprocessing.sequence import pad_sequences\n",
    "   \n",
    "\n",
    "from tensorflow.keras.models import Sequential\n",
    "from tensorflow.keras.layers import Embedding, LSTM, Dense\n",
    "from tensorflow.keras.optimizers import Adam\n",
    "from tensorflow.keras.losses import BinaryCrossentropy\n",
    "from tensorflow.keras.metrics import BinaryAccuracy\n",
    "from tensorflow.keras.callbacks import EarlyStopping"
   ]
  },
  {
   "cell_type": "code",
   "execution_count": 11,
   "id": "ca653000",
   "metadata": {
    "execution": {
     "iopub.execute_input": "2023-11-20T01:29:38.485999Z",
     "iopub.status.busy": "2023-11-20T01:29:38.485211Z",
     "iopub.status.idle": "2023-11-20T01:29:38.492709Z",
     "shell.execute_reply": "2023-11-20T01:29:38.491613Z"
    },
    "papermill": {
     "duration": 0.017452,
     "end_time": "2023-11-20T01:29:38.494841",
     "exception": false,
     "start_time": "2023-11-20T01:29:38.477389",
     "status": "completed"
    },
    "tags": []
   },
   "outputs": [],
   "source": [
    "isRealTest = True\n",
    "\n",
    "if isRealTest:\n",
    "    X_train = training_set['text'].values\n",
    "    y_train = training_set['generated'].values\n",
    "    \n",
    "    X_test = test['text'].values\n",
    "    X_testIDs = test['id']\n",
    "    \n",
    "    \n",
    "else:\n",
    "    X = training_set['text']\n",
    "    y = training_set['generated']\n",
    "\n",
    "    X_train, X_test, y_train, y_test = train_test_split(X, y, test_size = 0.2)"
   ]
  },
  {
   "cell_type": "code",
   "execution_count": 12,
   "id": "762a8abd",
   "metadata": {
    "execution": {
     "iopub.execute_input": "2023-11-20T01:29:38.510003Z",
     "iopub.status.busy": "2023-11-20T01:29:38.509615Z",
     "iopub.status.idle": "2023-11-20T01:29:38.517092Z",
     "shell.execute_reply": "2023-11-20T01:29:38.515818Z"
    },
    "papermill": {
     "duration": 0.017309,
     "end_time": "2023-11-20T01:29:38.519088",
     "exception": false,
     "start_time": "2023-11-20T01:29:38.501779",
     "status": "completed"
    },
    "tags": []
   },
   "outputs": [
    {
     "data": {
      "text/plain": [
       "\"Advantages of Limiting Car Usage\\n\\nThere are numerous advantages to limiting car usage, as highlighted in the passages provided. One advantage is the reduction in greenhouse gas emissions, which contribute to climate change. The passage states that passenger cars are responsible for 12 percent of greenhouse gas emissions in Europe and up to 50 percent in some car-intensive areas in the United States. By limiting car usage, especially in suburban areas, where automobile dependency is high, we can significantly reduce these emissions.\\n\\nAnother advantage is the promotion of alternative modes of transportation, such as walking, cycling, and public transportation. The passages mention examples of car-free communities, like Vauban in Germany and car-free days in Bogota, Colombia. In these communities, residents have the option to walk or cycle to their destinations, reducing traffic congestion and improving air quality. Additionally, public transportation becomes more accessible and efficient when there are fewer cars on the road.\\n\\nLimiting car usage also leads to the creation of more compact and walkable communities. The passages mention how stores in car-free communities are placed a walk away on a main street, rather than in distant malls accessible only by car. This approach allows for a more vibrant and connected community, where residents can easily access amenities and interact with one another.\\n\\nFurthermore, limiting car usage can have positive impacts on people's well-being and quality of life. In Vauban, Germany, residents reported feeling less stressed and happier after giving up their cars. This can be attributed to the reduction in traffic noise, improved air quality, and the increased opportunity for physical activity from walking or cycling.\\n\\nLastly, reducing car usage can lead to cost savings for individuals and governments. The passages mention how residents of Vauban sold their cars to move to a car-free community, indicating that owning and maintaining a car can be a financial burden. Additionally, by promoting alternative modes of transportation, governments can save on infrastructure costs associated with building and maintaining roads and parking spaces.\\n\\nIn conclusion, there are several advantages to limiting car usage, including the reduction of greenhouse gas emissions, the promotion of alternative modes of transportation, the creation of more compact and walkable communities, improved well-being, and cost savings. These advantages are key in addressing climate change, promoting sustainable development, and enhancing the quality of life for individuals and communities. It is important for individuals, governments, and communities to embrace these advantages and work towards reducing car dependency.\""
      ]
     },
     "execution_count": 12,
     "metadata": {},
     "output_type": "execute_result"
    }
   ],
   "source": [
    "X_train[60]"
   ]
  },
  {
   "cell_type": "code",
   "execution_count": 13,
   "id": "a7a1e9f6",
   "metadata": {
    "execution": {
     "iopub.execute_input": "2023-11-20T01:29:38.534165Z",
     "iopub.status.busy": "2023-11-20T01:29:38.533510Z",
     "iopub.status.idle": "2023-11-20T01:29:41.348852Z",
     "shell.execute_reply": "2023-11-20T01:29:41.347787Z"
    },
    "papermill": {
     "duration": 2.825491,
     "end_time": "2023-11-20T01:29:41.351186",
     "exception": false,
     "start_time": "2023-11-20T01:29:38.525695",
     "status": "completed"
    },
    "tags": []
   },
   "outputs": [],
   "source": [
    "max_words = 10000\n",
    "padding_length = 200\n",
    "\n",
    "tokenizer = Tokenizer(num_words=max_words, oov_token=\"<OOV>\")\n",
    "tokenizer.fit_on_texts(X_train)\n",
    "\n",
    "# Tokenize them into vectors\n",
    "# Each unique word represented by an integer\n",
    "X_train_sequences = tokenizer.texts_to_sequences(X_train)\n",
    "X_test_sequences = tokenizer.texts_to_sequences(X_test)\n",
    "\n",
    "# Pad our data to ensure consistent length\n",
    "X_train_padded = pad_sequences(X_train_sequences, maxlen=padding_length, padding='post', truncating='post')\n",
    "X_test_padded = pad_sequences(X_test_sequences, maxlen=padding_length, padding='post', truncating='post')"
   ]
  },
  {
   "cell_type": "code",
   "execution_count": 14,
   "id": "7b245152",
   "metadata": {
    "execution": {
     "iopub.execute_input": "2023-11-20T01:29:41.373170Z",
     "iopub.status.busy": "2023-11-20T01:29:41.372560Z",
     "iopub.status.idle": "2023-11-20T01:29:41.378869Z",
     "shell.execute_reply": "2023-11-20T01:29:41.376550Z"
    },
    "papermill": {
     "duration": 0.018462,
     "end_time": "2023-11-20T01:29:41.381596",
     "exception": false,
     "start_time": "2023-11-20T01:29:41.363134",
     "status": "completed"
    },
    "tags": []
   },
   "outputs": [
    {
     "name": "stdout",
     "output_type": "stream",
     "text": [
      "['Aaa bbb ccc.' 'Bbb ccc ddd.' 'CCC ddd eee.']\n"
     ]
    }
   ],
   "source": [
    "print(X_test)"
   ]
  },
  {
   "cell_type": "markdown",
   "id": "548c2571",
   "metadata": {
    "papermill": {
     "duration": 0.007139,
     "end_time": "2023-11-20T01:29:41.396821",
     "exception": false,
     "start_time": "2023-11-20T01:29:41.389682",
     "status": "completed"
    },
    "tags": []
   },
   "source": [
    "### Visualizing our preprocessing\n",
    "\n",
    "Now we can see the three steps our data goes through\n"
   ]
  },
  {
   "cell_type": "code",
   "execution_count": 15,
   "id": "f930438e",
   "metadata": {
    "execution": {
     "iopub.execute_input": "2023-11-20T01:29:41.412534Z",
     "iopub.status.busy": "2023-11-20T01:29:41.411945Z",
     "iopub.status.idle": "2023-11-20T01:29:41.419147Z",
     "shell.execute_reply": "2023-11-20T01:29:41.417462Z"
    },
    "papermill": {
     "duration": 0.017854,
     "end_time": "2023-11-20T01:29:41.421819",
     "exception": false,
     "start_time": "2023-11-20T01:29:41.403965",
     "status": "completed"
    },
    "tags": []
   },
   "outputs": [
    {
     "name": "stdout",
     "output_type": "stream",
     "text": [
      "Step 1: Raw Text\n",
      "It is becoming increasingly evident that there are numerous advantages to limiting car usage in modern society. The passage set provides several examples of communities and cities that are taking steps to reduce dependence on cars, and the positive outcomes they have experienced. Limiting car usage not only proves to be beneficial for the environment but also for the overall well-being of individuals and communities.\n",
      "\n",
      "One key advantage of limiting car usage is the reduction of greenhouse gas emissions. According to the passages, passenger cars are responsible for a significant percentage of greenhouse gas emissions in both Europe and the United States. By reducing the number of cars on the road, we can effectively decrease these emissions and work towards combating climate change. The passage on Paris's driving ban due to smog highlights the positive impact of such measures. The ban resulted in a significant decrease in congestion and smog levels, improving the air quality and overall health of the city's residents.\n",
      "\n",
      "Furthermore, limiting car usage can reduce traffic congestion, making transportation more efficient. The passage on the car-free day in Bogota showcases how millions of Colombians embraced alternative modes of transportation, resulting in empty streets and reduced traffic jams. This not only saves time for commuters but also contributes to a more sustainable and accessible transportation system. By promoting alternatives such as walking, biking, and public transportation, cities can alleviate congestion, improve mobility, and enhance the overall quality of life for their residents.\n",
      "\n",
      "Limiting car usage also encourages a shift towards more sustainable and healthy modes of transportation. The passage on Vauban, Germany, demonstrates how individuals can adopt a car-free lifestyle and experience increased happiness and reduced stress levels. This is further supported by the passage on the decrease in car ownership and driving in the United States. The trend suggests a cultural shift towards prioritizing alternative transportation options, such as walking or using public transportation, which can have positive impacts on physical and mental health.\n",
      "\n",
      "Another advantage of limiting car usage is the potential for urban planning to become more focused on the needs of residents rather than accommodating cars. By reducing the need for large parking areas, cities can prioritize creating community spaces, such as parks and pedestrian-friendly streets. This can enhance social interactions and create vibrant neighborhoods. The passage on Vauban's approach to smart planning emphasizes the placement of stores within walking distance, promoting pedestrian activity and reducing the need for long car trips to access essential amenities.\n",
      "\n",
      "In conclusion, the advantages of limiting car usage are numerous and diverse. By reducing greenhouse gas emissions, alleviating traffic congestion, promoting sustainable and healthy transportation, and creating vibrant communities, limiting car usage proves to be a vital step in creating a more sustainable and livable future. It is essential for individuals, communities, and governments to embrace this concept and work towards implementing policies and initiatives that encourage alternative modes of transportation.\n",
      "\n",
      "\n",
      "Step 2: Tokens\n",
      "[10, 8, 686, 1402, 1866, 9, 36, 14, 553, 113, 3, 41, 12, 31, 7, 957, 377, 2, 266, 841, 408, 373, 761, 4, 175, 5, 145, 9, 14, 365, 1896, 3, 71, 1225, 18, 22, 5, 2, 390, 1218, 27, 21, 2147, 41, 12, 31, 29, 97, 1593, 3, 17, 760, 11, 2, 127, 42, 39, 11, 2, 360, 172, 140, 4, 388, 5, 175, 57, 805, 346, 4, 41, 12, 31, 8, 2, 610, 4, 150, 114, 119, 312, 3, 2, 1357, 685, 22, 14, 511, 11, 6, 330, 1488, 4, 150, 114, 119, 7, 286, 391, 5, 2, 99, 25, 23, 168, 2, 88, 4, 22, 18, 2, 242, 28, 13, 1164, 474, 69, 119, 5, 176, 451, 3522, 243, 126, 2, 266, 18, 4658, 87, 382, 230, 3, 187, 1202, 2, 390, 209, 4, 122, 1540, 2, 382, 1338, 7, 6, 330, 474, 7, 108, 5, 187, 571, 748, 2, 65, 155, 5, 360, 92, 4, 2, 3098, 455, 468, 41, 12, 31, 13, 71, 85, 108, 206, 64, 26, 630, 2, 266, 18, 2, 12, 193, 159, 7, 324, 6899, 84, 525, 4, 1562, 3342, 256, 521, 4, 64, 1388, 7, 2087, 466, 5, 392, 85, 833, 15, 29, 97, 2206, 75, 11, 3175, 42, 39, 1307, 3, 6, 26, 290, 5, 738, 64, 48, 23, 541, 1321, 122, 32, 189, 331, 5, 81, 64, 145, 13, 1808, 108, 118, 1106, 5, 1988, 2, 360, 155, 4, 107, 11, 44, 455, 41, 12, 31, 39, 359, 6, 569, 451, 26, 290, 5, 912, 521, 4, 64, 2, 266, 18, 279, 458, 1652, 84, 388, 13, 1850, 6, 12, 193, 654, 5, 484, 692, 1455, 5, 392, 275, 571, 15, 8, 673, 1017, 23, 2, 266, 18, 2, 474, 7, 12, 567, 5, 87, 7, 2, 99, 25, 2, 843, 1006, 6, 1292, 569, 451, 2674, 256, 64, 724, 122, 32, 189, 35, 246, 81, 64, 77, 13, 21, 390, 1163, 18, 475, 5, 1219, 92, 144, 346, 4, 41, 12, 31, 8, 2, 263, 11, 444, 585, 3, 294, 26, 1771, 18, 2, 336, 4, 455, 319, 91, 6900, 22, 23, 168, 2, 109, 11, 195, 349, 254, 145, 13, 1592, 683, 239, 1037, 122, 32, 990, 5, 1149, 876, 466, 15, 13, 1988, 705, 2821, 5, 299, 1575, 1261, 2, 266, 18, 1710, 775, 3, 586, 585, 2770, 2, 5956, 4, 903, 709, 189, 696, 541, 1149, 557, 5, 168, 2, 109, 11, 341, 12, 835, 3, 1167, 847, 1913, 7, 153, 2, 113, 4, 41, 12, 31, 14, 553, 5, 740, 23, 168, 150, 114, 119, 4079, 85, 108, 541, 290, 5, 912, 64, 5, 683, 1575, 175, 41, 12, 31, 1593, 3, 17, 6, 1594, 935, 7, 683, 6, 26, 290, 5, 405, 245, 10, 8, 847, 11, 388, 175, 5, 2385, 3, 1990, 15, 1509, 5, 176, 451, 1247, 1122, 5, 1178, 9, 510, 256, 521, 4, 64]\n",
      "\n",
      "\n",
      "Step 3: Padded Set\n",
      "[  10    8  686 1402 1866    9   36   14  553  113    3   41   12   31\n",
      "    7  957  377    2  266  841  408  373  761    4  175    5  145    9\n",
      "   14  365 1896    3   71 1225   18   22    5    2  390 1218   27   21\n",
      " 2147   41   12   31   29   97 1593    3   17  760   11    2  127   42\n",
      "   39   11    2  360  172  140    4  388    5  175   57  805  346    4\n",
      "   41   12   31    8    2  610    4  150  114  119  312    3    2 1357\n",
      "  685   22   14  511   11    6  330 1488    4  150  114  119    7  286\n",
      "  391    5    2   99   25   23  168    2   88    4   22   18    2  242\n",
      "   28   13 1164  474   69  119    5  176  451 3522  243  126    2  266\n",
      "   18 4658   87  382  230    3  187 1202    2  390  209    4  122 1540\n",
      "    2  382 1338    7    6  330  474    7  108    5  187  571  748    2\n",
      "   65  155    5  360   92    4    2 3098  455  468   41   12   31   13\n",
      "   71   85  108  206   64   26  630    2  266   18    2   12  193  159\n",
      "    7  324 6899   84  525    4 1562 3342  256  521    4   64 1388    7\n",
      " 2087  466    5  392]\n",
      "Generated? True\n"
     ]
    }
   ],
   "source": [
    "essay_number = 13\n",
    "\n",
    "print(\"Step 1: Raw Text\\n\"+ X_train[essay_number])\n",
    "print(\"\\n\\nStep 2: Tokens\\n\" + str(X_train_sequences[essay_number]))\n",
    "print(\"\\n\\nStep 3: Padded Set\\n\" + str(X_train_padded[essay_number]))\n",
    "\n",
    "print(\"Generated? \" + str(bool(y_train[essay_number])))"
   ]
  },
  {
   "cell_type": "code",
   "execution_count": 16,
   "id": "f3d4e987",
   "metadata": {
    "execution": {
     "iopub.execute_input": "2023-11-20T01:29:41.437519Z",
     "iopub.status.busy": "2023-11-20T01:29:41.437105Z",
     "iopub.status.idle": "2023-11-20T01:29:41.946665Z",
     "shell.execute_reply": "2023-11-20T01:29:41.944282Z"
    },
    "papermill": {
     "duration": 0.520447,
     "end_time": "2023-11-20T01:29:41.949398",
     "exception": false,
     "start_time": "2023-11-20T01:29:41.428951",
     "status": "completed"
    },
    "tags": []
   },
   "outputs": [],
   "source": [
    "model = Sequential([\n",
    "    Embedding(input_dim=10000, output_dim=128, input_length=200),\n",
    "    LSTM(64),\n",
    "    Dense(1, activation='sigmoid')\n",
    "])\n",
    "\n",
    "model.compile(optimizer=Adam(learning_rate=1e-4), loss =tf.keras.losses.BinaryCrossentropy(), metrics=[BinaryAccuracy()])"
   ]
  },
  {
   "cell_type": "code",
   "execution_count": 17,
   "id": "bd0e9502",
   "metadata": {
    "execution": {
     "iopub.execute_input": "2023-11-20T01:29:41.969357Z",
     "iopub.status.busy": "2023-11-20T01:29:41.968062Z",
     "iopub.status.idle": "2023-11-20T01:31:05.883174Z",
     "shell.execute_reply": "2023-11-20T01:31:05.881812Z"
    },
    "papermill": {
     "duration": 83.927054,
     "end_time": "2023-11-20T01:31:05.885916",
     "exception": false,
     "start_time": "2023-11-20T01:29:41.958862",
     "status": "completed"
    },
    "tags": []
   },
   "outputs": [
    {
     "name": "stdout",
     "output_type": "stream",
     "text": [
      "Epoch 1/5\n",
      "170/170 [==============================] - 17s 89ms/step - loss: 0.6064 - binary_accuracy: 0.6305 - val_loss: 0.5323 - val_binary_accuracy: 0.9784\n",
      "Epoch 2/5\n",
      "170/170 [==============================] - 15s 87ms/step - loss: 0.2457 - binary_accuracy: 0.9377 - val_loss: 0.2590 - val_binary_accuracy: 0.9502\n",
      "Epoch 3/5\n",
      "170/170 [==============================] - 15s 88ms/step - loss: 0.1039 - binary_accuracy: 0.9765 - val_loss: 0.1475 - val_binary_accuracy: 0.9668\n",
      "Epoch 4/5\n",
      "170/170 [==============================] - 15s 85ms/step - loss: 0.0533 - binary_accuracy: 0.9895 - val_loss: 0.1205 - val_binary_accuracy: 0.9734\n",
      "Epoch 5/5\n",
      "170/170 [==============================] - 14s 85ms/step - loss: 0.0294 - binary_accuracy: 0.9954 - val_loss: 0.0254 - val_binary_accuracy: 0.9983\n"
     ]
    }
   ],
   "source": [
    "y_train = y_train.astype(np.float32)\n",
    "if not isRealTest:\n",
    "    y_test  = y_test .astype(np.float32)\n",
    "\n",
    "early_stopping = EarlyStopping(monitor='val_loss', patience=3, restore_best_weights=True)\n",
    "\n",
    "# Train the model\n",
    "history = model.fit(X_train_padded, y_train, epochs=5, validation_split=0.1, callbacks=[early_stopping])"
   ]
  },
  {
   "cell_type": "code",
   "execution_count": 18,
   "id": "adf5d39c",
   "metadata": {
    "execution": {
     "iopub.execute_input": "2023-11-20T01:31:06.057469Z",
     "iopub.status.busy": "2023-11-20T01:31:06.057050Z",
     "iopub.status.idle": "2023-11-20T01:31:06.062357Z",
     "shell.execute_reply": "2023-11-20T01:31:06.061049Z"
    },
    "papermill": {
     "duration": 0.066101,
     "end_time": "2023-11-20T01:31:06.064643",
     "exception": false,
     "start_time": "2023-11-20T01:31:05.998542",
     "status": "completed"
    },
    "tags": []
   },
   "outputs": [],
   "source": [
    "if not isRealTest:\n",
    "    # Evaluate the model on the test set\n",
    "    loss, accurtestcy = model.evaluate(X_test_padded, y_test)\n",
    "    print(f\"Test Loss: {loss:.4f}, Test Accuracy: {accuracy:.4f}\")"
   ]
  },
  {
   "cell_type": "code",
   "execution_count": 19,
   "id": "7401f4e8",
   "metadata": {
    "execution": {
     "iopub.execute_input": "2023-11-20T01:31:06.182818Z",
     "iopub.status.busy": "2023-11-20T01:31:06.182450Z",
     "iopub.status.idle": "2023-11-20T01:31:06.614465Z",
     "shell.execute_reply": "2023-11-20T01:31:06.612697Z"
    },
    "papermill": {
     "duration": 0.493328,
     "end_time": "2023-11-20T01:31:06.617062",
     "exception": false,
     "start_time": "2023-11-20T01:31:06.123734",
     "status": "completed"
    },
    "tags": []
   },
   "outputs": [
    {
     "name": "stdout",
     "output_type": "stream",
     "text": [
      "1/1 [==============================] - 0s 381ms/step\n"
     ]
    }
   ],
   "source": [
    "from sklearn.metrics import confusion_matrix, classification_report\n",
    "\n",
    "# Predictions on the test set\n",
    "y_pred = model.predict(X_test_padded)\n",
    "\n",
    "# Convert probabilities to class labels\n",
    "y_pred_labels = np.round(y_pred)"
   ]
  },
  {
   "cell_type": "code",
   "execution_count": 20,
   "id": "81300915",
   "metadata": {
    "execution": {
     "iopub.execute_input": "2023-11-20T01:31:06.736251Z",
     "iopub.status.busy": "2023-11-20T01:31:06.735325Z",
     "iopub.status.idle": "2023-11-20T01:31:06.742830Z",
     "shell.execute_reply": "2023-11-20T01:31:06.741146Z"
    },
    "papermill": {
     "duration": 0.069508,
     "end_time": "2023-11-20T01:31:06.745386",
     "exception": false,
     "start_time": "2023-11-20T01:31:06.675878",
     "status": "completed"
    },
    "tags": []
   },
   "outputs": [],
   "source": [
    "if not isRealTest:\n",
    "    # Confusion matrix\n",
    "    conf_matrix = confusion_matrix(y_test, y_pred_labels)\n",
    "    print(\"Confusion Matrix:\")\n",
    "    print(conf_matrix)\n",
    "\n",
    "    # Classification report\n",
    "    class_report = classification_report(y_test, y_pred_labels)\n",
    "    print(\"\\nClassification Report:\")\n",
    "    print(class_report)\n",
    "\n",
    "if isRealTest:\n",
    "    submission = pd.DataFrame({'id': list(X_testIDs), 'generated': y_pred.flatten()})"
   ]
  },
  {
   "cell_type": "code",
   "execution_count": 21,
   "id": "4690be63",
   "metadata": {
    "execution": {
     "iopub.execute_input": "2023-11-20T01:31:06.864889Z",
     "iopub.status.busy": "2023-11-20T01:31:06.864498Z",
     "iopub.status.idle": "2023-11-20T01:31:06.872792Z",
     "shell.execute_reply": "2023-11-20T01:31:06.871795Z"
    },
    "papermill": {
     "duration": 0.070576,
     "end_time": "2023-11-20T01:31:06.875159",
     "exception": false,
     "start_time": "2023-11-20T01:31:06.804583",
     "status": "completed"
    },
    "tags": []
   },
   "outputs": [],
   "source": [
    "submission.to_csv('/kaggle/working/submission.csv', index=False)"
   ]
  },
  {
   "cell_type": "code",
   "execution_count": 22,
   "id": "bd008358",
   "metadata": {
    "execution": {
     "iopub.execute_input": "2023-11-20T01:31:06.993960Z",
     "iopub.status.busy": "2023-11-20T01:31:06.993581Z",
     "iopub.status.idle": "2023-11-20T01:31:07.003623Z",
     "shell.execute_reply": "2023-11-20T01:31:07.002297Z"
    },
    "papermill": {
     "duration": 0.072607,
     "end_time": "2023-11-20T01:31:07.006202",
     "exception": false,
     "start_time": "2023-11-20T01:31:06.933595",
     "status": "completed"
    },
    "tags": []
   },
   "outputs": [
    {
     "data": {
      "text/html": [
       "<div>\n",
       "<style scoped>\n",
       "    .dataframe tbody tr th:only-of-type {\n",
       "        vertical-align: middle;\n",
       "    }\n",
       "\n",
       "    .dataframe tbody tr th {\n",
       "        vertical-align: top;\n",
       "    }\n",
       "\n",
       "    .dataframe thead th {\n",
       "        text-align: right;\n",
       "    }\n",
       "</style>\n",
       "<table border=\"1\" class=\"dataframe\">\n",
       "  <thead>\n",
       "    <tr style=\"text-align: right;\">\n",
       "      <th></th>\n",
       "      <th>id</th>\n",
       "      <th>generated</th>\n",
       "    </tr>\n",
       "  </thead>\n",
       "  <tbody>\n",
       "    <tr>\n",
       "      <th>0</th>\n",
       "      <td>0000aaaa</td>\n",
       "      <td>0.007432</td>\n",
       "    </tr>\n",
       "    <tr>\n",
       "      <th>1</th>\n",
       "      <td>1111bbbb</td>\n",
       "      <td>0.007432</td>\n",
       "    </tr>\n",
       "    <tr>\n",
       "      <th>2</th>\n",
       "      <td>2222cccc</td>\n",
       "      <td>0.007432</td>\n",
       "    </tr>\n",
       "  </tbody>\n",
       "</table>\n",
       "</div>"
      ],
      "text/plain": [
       "         id  generated\n",
       "0  0000aaaa   0.007432\n",
       "1  1111bbbb   0.007432\n",
       "2  2222cccc   0.007432"
      ]
     },
     "execution_count": 22,
     "metadata": {},
     "output_type": "execute_result"
    }
   ],
   "source": [
    "submission"
   ]
  }
 ],
 "metadata": {
  "kaggle": {
   "accelerator": "none",
   "dataSources": [
    {
     "databundleVersionId": 6888007,
     "sourceId": 61542,
     "sourceType": "competition"
    },
    {
     "datasetId": 3961875,
     "sourceId": 6971638,
     "sourceType": "datasetVersion"
    }
   ],
   "dockerImageVersionId": 30587,
   "isGpuEnabled": false,
   "isInternetEnabled": false,
   "language": "python",
   "sourceType": "notebook"
  },
  "kernelspec": {
   "display_name": "Python 3",
   "language": "python",
   "name": "python3"
  },
  "language_info": {
   "codemirror_mode": {
    "name": "ipython",
    "version": 3
   },
   "file_extension": ".py",
   "mimetype": "text/x-python",
   "name": "python",
   "nbconvert_exporter": "python",
   "pygments_lexer": "ipython3",
   "version": "3.10.12"
  },
  "papermill": {
   "default_parameters": {},
   "duration": 114.800209,
   "end_time": "2023-11-20T01:31:08.893354",
   "environment_variables": {},
   "exception": null,
   "input_path": "__notebook__.ipynb",
   "output_path": "__notebook__.ipynb",
   "parameters": {},
   "start_time": "2023-11-20T01:29:14.093145",
   "version": "2.4.0"
  }
 },
 "nbformat": 4,
 "nbformat_minor": 5
}
