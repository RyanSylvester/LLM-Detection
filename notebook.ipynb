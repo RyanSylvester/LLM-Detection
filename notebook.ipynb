{
 "cells": [
  {
   "cell_type": "code",
   "execution_count": 1,
   "id": "c7235638",
   "metadata": {
    "_cell_guid": "b1076dfc-b9ad-4769-8c92-a6c4dae69d19",
    "_uuid": "8f2839f25d086af736a60e9eeb907d3b93b6e0e5",
    "execution": {
     "iopub.execute_input": "2023-11-18T00:36:03.522222Z",
     "iopub.status.busy": "2023-11-18T00:36:03.521477Z",
     "iopub.status.idle": "2023-11-18T00:36:04.476616Z",
     "shell.execute_reply": "2023-11-18T00:36:04.475578Z"
    },
    "papermill": {
     "duration": 0.963525,
     "end_time": "2023-11-18T00:36:04.479712",
     "exception": false,
     "start_time": "2023-11-18T00:36:03.516187",
     "status": "completed"
    },
    "tags": []
   },
   "outputs": [],
   "source": [
    "import numpy as np # linear algebra\n",
    "import pandas as pd # data processing, CSV file I/O (e.g. pd.read_csv)\n",
    "import os\n",
    "\n",
    "for dirname, _, filenames in os.walk('/kaggle/input'):\n",
    "    data_sets = []\n",
    "    for filename in filenames:\n",
    "        data_sets.append(pd.read_csv(os.path.join(dirname, filename)))\n",
    "sample_sub, training_prompts, test, train = data_sets"
   ]
  },
  {
   "cell_type": "code",
   "execution_count": 2,
   "id": "7bcd5b59",
   "metadata": {
    "execution": {
     "iopub.execute_input": "2023-11-18T00:36:04.489391Z",
     "iopub.status.busy": "2023-11-18T00:36:04.489001Z",
     "iopub.status.idle": "2023-11-18T00:36:04.523823Z",
     "shell.execute_reply": "2023-11-18T00:36:04.523091Z"
    },
    "papermill": {
     "duration": 0.04128,
     "end_time": "2023-11-18T00:36:04.526079",
     "exception": false,
     "start_time": "2023-11-18T00:36:04.484799",
     "status": "completed"
    },
    "tags": []
   },
   "outputs": [
    {
     "data": {
      "text/html": [
       "<div>\n",
       "<style scoped>\n",
       "    .dataframe tbody tr th:only-of-type {\n",
       "        vertical-align: middle;\n",
       "    }\n",
       "\n",
       "    .dataframe tbody tr th {\n",
       "        vertical-align: top;\n",
       "    }\n",
       "\n",
       "    .dataframe thead th {\n",
       "        text-align: right;\n",
       "    }\n",
       "</style>\n",
       "<table border=\"1\" class=\"dataframe\">\n",
       "  <thead>\n",
       "    <tr style=\"text-align: right;\">\n",
       "      <th></th>\n",
       "      <th>prompt_id</th>\n",
       "      <th>generated</th>\n",
       "    </tr>\n",
       "  </thead>\n",
       "  <tbody>\n",
       "    <tr>\n",
       "      <th>count</th>\n",
       "      <td>1378.000000</td>\n",
       "      <td>1378.000000</td>\n",
       "    </tr>\n",
       "    <tr>\n",
       "      <th>mean</th>\n",
       "      <td>0.486212</td>\n",
       "      <td>0.002177</td>\n",
       "    </tr>\n",
       "    <tr>\n",
       "      <th>std</th>\n",
       "      <td>0.499991</td>\n",
       "      <td>0.046625</td>\n",
       "    </tr>\n",
       "    <tr>\n",
       "      <th>min</th>\n",
       "      <td>0.000000</td>\n",
       "      <td>0.000000</td>\n",
       "    </tr>\n",
       "    <tr>\n",
       "      <th>25%</th>\n",
       "      <td>0.000000</td>\n",
       "      <td>0.000000</td>\n",
       "    </tr>\n",
       "    <tr>\n",
       "      <th>50%</th>\n",
       "      <td>0.000000</td>\n",
       "      <td>0.000000</td>\n",
       "    </tr>\n",
       "    <tr>\n",
       "      <th>75%</th>\n",
       "      <td>1.000000</td>\n",
       "      <td>0.000000</td>\n",
       "    </tr>\n",
       "    <tr>\n",
       "      <th>max</th>\n",
       "      <td>1.000000</td>\n",
       "      <td>1.000000</td>\n",
       "    </tr>\n",
       "  </tbody>\n",
       "</table>\n",
       "</div>"
      ],
      "text/plain": [
       "         prompt_id    generated\n",
       "count  1378.000000  1378.000000\n",
       "mean      0.486212     0.002177\n",
       "std       0.499991     0.046625\n",
       "min       0.000000     0.000000\n",
       "25%       0.000000     0.000000\n",
       "50%       0.000000     0.000000\n",
       "75%       1.000000     0.000000\n",
       "max       1.000000     1.000000"
      ]
     },
     "execution_count": 2,
     "metadata": {},
     "output_type": "execute_result"
    }
   ],
   "source": [
    "train.describe()"
   ]
  },
  {
   "cell_type": "code",
   "execution_count": 3,
   "id": "1d646d29",
   "metadata": {
    "execution": {
     "iopub.execute_input": "2023-11-18T00:36:04.535058Z",
     "iopub.status.busy": "2023-11-18T00:36:04.534045Z",
     "iopub.status.idle": "2023-11-18T00:36:04.541090Z",
     "shell.execute_reply": "2023-11-18T00:36:04.540123Z"
    },
    "papermill": {
     "duration": 0.014044,
     "end_time": "2023-11-18T00:36:04.543536",
     "exception": false,
     "start_time": "2023-11-18T00:36:04.529492",
     "status": "completed"
    },
    "tags": []
   },
   "outputs": [
    {
     "data": {
      "text/plain": [
       "id           object\n",
       "prompt_id     int64\n",
       "text         object\n",
       "generated     int64\n",
       "dtype: object"
      ]
     },
     "execution_count": 3,
     "metadata": {},
     "output_type": "execute_result"
    }
   ],
   "source": [
    "train.dtypes"
   ]
  },
  {
   "cell_type": "code",
   "execution_count": 4,
   "id": "9b0639f3",
   "metadata": {
    "execution": {
     "iopub.execute_input": "2023-11-18T00:36:04.552875Z",
     "iopub.status.busy": "2023-11-18T00:36:04.551905Z",
     "iopub.status.idle": "2023-11-18T00:36:20.950564Z",
     "shell.execute_reply": "2023-11-18T00:36:20.949404Z"
    },
    "papermill": {
     "duration": 16.406332,
     "end_time": "2023-11-18T00:36:20.953450",
     "exception": false,
     "start_time": "2023-11-18T00:36:04.547118",
     "status": "completed"
    },
    "tags": []
   },
   "outputs": [
    {
     "name": "stdout",
     "output_type": "stream",
     "text": [
      "Using TensorFlow backend\n"
     ]
    }
   ],
   "source": [
    "from sklearn.model_selection import train_test_split\n",
    "import keras_nlp\n",
    "import keras_core as keras\n",
    "\n",
    "import tensorflow as tf\n",
    "from tensorflow.keras.preprocessing.text import Tokenizer\n",
    "from tensorflow.keras.preprocessing.sequence import pad_sequences"
   ]
  },
  {
   "cell_type": "code",
   "execution_count": 5,
   "id": "3164607a",
   "metadata": {
    "execution": {
     "iopub.execute_input": "2023-11-18T00:36:20.962932Z",
     "iopub.status.busy": "2023-11-18T00:36:20.961818Z",
     "iopub.status.idle": "2023-11-18T00:36:20.969156Z",
     "shell.execute_reply": "2023-11-18T00:36:20.968121Z"
    },
    "papermill": {
     "duration": 0.014815,
     "end_time": "2023-11-18T00:36:20.971963",
     "exception": false,
     "start_time": "2023-11-18T00:36:20.957148",
     "status": "completed"
    },
    "tags": []
   },
   "outputs": [],
   "source": [
    "X = train['text']\n",
    "y = train['generated']\n",
    "\n",
    "X_train, X_test, y_train, y_test = train_test_split(X, y, test_size = 0.2)"
   ]
  },
  {
   "cell_type": "code",
   "execution_count": 6,
   "id": "57668551",
   "metadata": {
    "execution": {
     "iopub.execute_input": "2023-11-18T00:36:20.980923Z",
     "iopub.status.busy": "2023-11-18T00:36:20.980538Z",
     "iopub.status.idle": "2023-11-18T00:36:21.813212Z",
     "shell.execute_reply": "2023-11-18T00:36:21.812196Z"
    },
    "papermill": {
     "duration": 0.839998,
     "end_time": "2023-11-18T00:36:21.815628",
     "exception": false,
     "start_time": "2023-11-18T00:36:20.975630",
     "status": "completed"
    },
    "tags": []
   },
   "outputs": [],
   "source": [
    "max_words = 10000\n",
    "padding_length = 200\n",
    "\n",
    "tokenizer = Tokenizer(num_words=max_words, oov_token=\"<OOV>\")\n",
    "tokenizer.fit_on_texts(X_train)\n",
    "\n",
    "# Tokenize them into vectors\n",
    "# Each unique word represented by an integer\n",
    "X_train_sequences = tokenizer.texts_to_sequences(X_train)\n",
    "X_test_sequences = tokenizer.texts_to_sequences(X_test)\n",
    "\n",
    "# Pad our data to ensure consistent length\n",
    "X_train_padded = pad_sequences(X_train_sequences, maxlen=padding_length, padding='post', truncating='post')\n",
    "X_test_padded = pad_sequences(X_test_sequences, maxlen=padding_length, padding='post', truncating='post')"
   ]
  },
  {
   "cell_type": "code",
   "execution_count": null,
   "id": "c0e94fc4",
   "metadata": {
    "papermill": {
     "duration": 0.003399,
     "end_time": "2023-11-18T00:36:21.823020",
     "exception": false,
     "start_time": "2023-11-18T00:36:21.819621",
     "status": "completed"
    },
    "tags": []
   },
   "outputs": [],
   "source": []
  },
  {
   "cell_type": "markdown",
   "id": "719f288d",
   "metadata": {
    "papermill": {
     "duration": 0.003227,
     "end_time": "2023-11-18T00:36:21.829790",
     "exception": false,
     "start_time": "2023-11-18T00:36:21.826563",
     "status": "completed"
    },
    "tags": []
   },
   "source": [
    "### Visualizing our preprocessing\n",
    "\n",
    "Now we can see the three steps our data goes through\n"
   ]
  },
  {
   "cell_type": "code",
   "execution_count": 7,
   "id": "0832dae7",
   "metadata": {
    "execution": {
     "iopub.execute_input": "2023-11-18T00:36:21.839020Z",
     "iopub.status.busy": "2023-11-18T00:36:21.838256Z",
     "iopub.status.idle": "2023-11-18T00:36:21.851829Z",
     "shell.execute_reply": "2023-11-18T00:36:21.850768Z"
    },
    "papermill": {
     "duration": 0.021086,
     "end_time": "2023-11-18T00:36:21.854372",
     "exception": false,
     "start_time": "2023-11-18T00:36:21.833286",
     "status": "completed"
    },
    "tags": []
   },
   "outputs": [
    {
     "name": "stdout",
     "output_type": "stream",
     "text": [
      "Step 1: Raw Text\n",
      "The electrol college system is an unfair system, people don't have the right to select their own president, they dont have the right to select a president. Because, when people vote they are technically voting for the electors for a candied. That candidate can be a democratic or a republican. In source two it states that electors can choose there opposing candidate. Which declines the the whole voting process. Why do we vote? we vote to select a leader who will defend this country and make america a place of opportunity. The most important reason why the electrol cllege is unfair because of the \" winners it take all\" rule.\n",
      "\n",
      "We as american people cannot choose their own government, as it says in source two, that when voters vote they are voting for the candidates electors. Each state gets one vote and then the electors can choose who they want for president. In source two it states that the electoral college consists of 538 electors and the most amount of electoral votes is 270, in order to pick an president. Also in source two it states that the number of electors we have equals to the amount of members of congress we have. I propose a new system by only letting the American people select our president by votes counted all up by each state, for example if we didn't have have electoral college, then it would be a fair vote because people votes would count the number that adds up with all votes for one candidates that will oppose another candidates and there would be technically no tie it would either ,more or less, but if we still had the electoral college then the vote would not be equally fair because if the majority of a state for example chose republican candidate, then that would be vague because some people choose democratic and there vote did not really count. but without the electoral college, than everyones vote counts and each candidates gets vote from every one, not only electoral.\n",
      "\n",
      "In source two it says that electoral who have been select by the state can choose their opposing candidtade, which is more disatvantgeing to the american people and america's future. for example if one state candidate was choosen for republican and they were \"faithless\" as it says in source two, and chose the democratic party it would be very unfortunate for the republicans because than there would be no point of the votes the republican supporters have voted for. It only comes once every four years, this is very important to the american people, on choosing who they want for the future of america.\n",
      "\n",
      "In source two and three it states the rule \" winner take it all\". The votes the other lose the, winning can take it all, that vote that they take from the losing does not count Because the people really didnt mean to vote for the candidate they don't want or the candidate they dont support, its like your money fell on the floor and someone just took it knowing its yours.\n",
      "\n",
      "In conclusion, the state senators should eliminate the electoral college because they count the majorty votes, and don't count other votes that is not popular as the other candidates vote. also because they can decide vote on an canditate they want based on their opinions and beliefs. and lastly because of the winner takes it all system which is bascially taking the losing candidates electoral votes.\n",
      "\n",
      "\n",
      "Step 2: Tokens\n",
      "[2, 13, 19, 8, 5, 1858, 1287, 7, 2, 119, 20, 8, 2, 68, 249, 3, 247, 2, 34, 4, 2, 105, 28, 36, 91, 14, 286, 4, 300, 180, 3, 70, 237, 207, 9, 27, 786, 79, 20, 1288, 68, 6, 9, 27, 55, 113, 29, 2, 53, 18, 199, 213, 43, 458, 12, 1433, 7, 32, 7535, 9, 27, 55, 620, 141, 79, 619, 2, 13, 19, 11, 8, 1311, 378, 10, 5, 194, 90, 3, 218, 453, 58, 29, 2, 188, 4, 65, 71, 10, 2, 1336, 90, 27, 55, 7536, 2, 13, 19, 7, 445, 4, 2, 53, 18, 2, 13, 19, 8, 5, 68, 9, 501, 5, 314, 127, 4, 13, 49, 3, 173, 75, 173, 75, 8, 451, 196, 13, 49, 1198, 170, 127, 4, 49, 81, 1825, 26, 9, 998, 264, 2, 127, 4, 49, 7537, 52, 177, 3, 930, 70, 177, 5, 90, 338, 1370, 1147, 115, 4, 702, 378, 49, 2, 90, 2, 13, 49, 4, 5, 75, 113, 3, 8, 581, 31, 2, 188, 18, 4, 173, 829, 75, 7, 43, 28, 36, 1745, 6, 1906, 321, 5, 90, 2, 3774, 4, 32, 49, 38, 2, 188, 4, 141, 680, 49, 10, 112, 70, 237, 76, 14, 128, 58, 1791, 71, 160, 3, 2, 279, 9, 32, 18, 39, 21, 1578, 3, 32, 2067, 1030, 63, 20, 883, 625, 62, 5, 350, 908, 329, 7, 5, 909, 75, 6, 736, 2862, 70, 177, 48, 14, 1434, 31, 2, 13, 19, 25, 2, 246, 931, 4, 1013, 23, 671, 9, 2, 729, 4, 2, 282, 8, 135, 5, 90, 502, 218, 2, 63, 160, 3, 1049, 445, 6, 20, 68, 2719, 9, 41, 39, 215, 15, 5, 238, 282, 58, 62, 173, 90, 1010, 2, 255, 813, 4, 49, 27, 1148, 154, 2, 13, 19, 7, 494, 3, 1268, 9, 28, 29, 1371, 1524, 1746, 1579, 31, 194, 1247, 243, 11, 4159, 3, 74, 69, 9, 194, 123, 557, 32, 318, 3, 274, 28, 7, 494, 3, 218, 32, 13, 49, 123, 16, 405, 3, 85, 147, 3, 219, 7, 28, 9, 16, 5, 188, 4, 51, 283, 44, 32, 18, 8, 572, 5, 505, 239, 37, 43, 36, 7538, 38, 20, 68, 182, 21, 74, 2, 892, 9, 11, 54, 2863, 3241, 10, 121, 107, 74, 27, 620, 3, 79, 11, 7, 343, 2, 13, 19, 8, 3041, 6, 408, 27, 55, 85, 558, 79, 20, 25, 5, 68, 4, 4706, 40, 34, 58, 276, 5, 282, 8, 625, 33, 238, 41, 8, 215, 5, 1059, 4, 5, 227, 347, 123, 14, 45, 782, 2, 13, 19, 59, 671, 9, 141, 5, 130, 234, 160, 3, 274, 28, 144, 33, 318, 3481, 3, 112, 6, 542, 124, 33, 2511, 7, 32, 528, 243, 20, 1826, 8, 1491, 7, 9, 11, 5677, 9, 114, 4, 5, 75, 12, 33, 346, 3, 2720, 7539, 7540, 491, 44, 32, 18, 2254, 33, 2415, 7, 5, 762, 59, 123, 30, 85, 558, 272, 2255, 318, 3, 274, 28, 38, 2, 13, 19, 1746, 7, 166, 56, 2, 49, 4, 117, 114, 597, 15, 1435, 1792, 2, 1045, 1289, 2415, 4, 49, 8, 21, 5, 130, 234, 81, 20, 735, 59, 2721, 11, 8, 2, 246, 528, 3, 633, 2, 13, 19]\n",
      "\n",
      "\n",
      "Step 3: Padded Set\n",
      "[   2   13   19    8    5 1858 1287    7    2  119   20    8    2   68\n",
      "  249    3  247    2   34    4    2  105   28   36   91   14  286    4\n",
      "  300  180    3   70  237  207    9   27  786   79   20 1288   68    6\n",
      "    9   27   55  113   29    2   53   18  199  213   43  458   12 1433\n",
      "    7   32 7535    9   27   55  620  141   79  619    2   13   19   11\n",
      "    8 1311  378   10    5  194   90    3  218  453   58   29    2  188\n",
      "    4   65   71   10    2 1336   90   27   55 7536    2   13   19    7\n",
      "  445    4    2   53   18    2   13   19    8    5   68    9  501    5\n",
      "  314  127    4   13   49    3  173   75  173   75    8  451  196   13\n",
      "   49 1198  170  127    4   49   81 1825   26    9  998  264    2  127\n",
      "    4   49 7537   52  177    3  930   70  177    5   90  338 1370 1147\n",
      "  115    4  702  378   49    2   90    2   13   49    4    5   75  113\n",
      "    3    8  581   31    2  188   18    4  173  829   75    7   43   28\n",
      "   36 1745    6 1906  321    5   90    2 3774    4   32   49   38    2\n",
      "  188    4  141  680]\n"
     ]
    }
   ],
   "source": [
    "essay_number = 5\n",
    "\n",
    "print(\"Step 1: Raw Text\\n\"+ X_train[essay_number])\n",
    "print(\"\\n\\nStep 2: Tokens\\n\" + str(X_train_sequences[essay_number]))\n",
    "print(\"\\n\\nStep 3: Padded Set\\n\" + str(X_train_padded[essay_number]))"
   ]
  },
  {
   "cell_type": "code",
   "execution_count": null,
   "id": "5fc05f70",
   "metadata": {
    "papermill": {
     "duration": 0.003555,
     "end_time": "2023-11-18T00:36:21.861871",
     "exception": false,
     "start_time": "2023-11-18T00:36:21.858316",
     "status": "completed"
    },
    "tags": []
   },
   "outputs": [],
   "source": []
  }
 ],
 "metadata": {
  "kaggle": {
   "accelerator": "none",
   "dataSources": [
    {
     "databundleVersionId": 6888007,
     "sourceId": 61542,
     "sourceType": "competition"
    }
   ],
   "dockerImageVersionId": 30587,
   "isGpuEnabled": false,
   "isInternetEnabled": true,
   "language": "python",
   "sourceType": "notebook"
  },
  "kernelspec": {
   "display_name": "Python 3",
   "language": "python",
   "name": "python3"
  },
  "language_info": {
   "codemirror_mode": {
    "name": "ipython",
    "version": 3
   },
   "file_extension": ".py",
   "mimetype": "text/x-python",
   "name": "python",
   "nbconvert_exporter": "python",
   "pygments_lexer": "ipython3",
   "version": "3.10.12"
  },
  "papermill": {
   "default_parameters": {},
   "duration": 24.315843,
   "end_time": "2023-11-18T00:36:23.491512",
   "environment_variables": {},
   "exception": null,
   "input_path": "__notebook__.ipynb",
   "output_path": "__notebook__.ipynb",
   "parameters": {},
   "start_time": "2023-11-18T00:35:59.175669",
   "version": "2.4.0"
  }
 },
 "nbformat": 4,
 "nbformat_minor": 5
}
